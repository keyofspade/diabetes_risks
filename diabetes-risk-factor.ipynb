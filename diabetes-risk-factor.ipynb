{
 "cells": [
  {
   "cell_type": "markdown",
   "id": "334896e2",
   "metadata": {
    "papermill": {
     "duration": 0.018428,
     "end_time": "2023-02-01T03:04:23.883110",
     "exception": false,
     "start_time": "2023-02-01T03:04:23.864682",
     "status": "completed"
    },
    "tags": []
   },
   "source": [
    "## Introduction \n",
    "\n",
    "With data from the CDC and Behavioral Risk Factor Surveillance System, this model utilizes Logistical Regression to predict the likelihood of diabetes based on independent variables identified during the data processing and analysis.\n",
    "\n",
    "There are 32 possible variables attributing to diabetes risk classified as either demographic(sex, race, age, etc.), behavioral(physical activity levels, sleep duration, etc.), or medical variables(asthma, kidney disease history, etc.).\n",
    "\n",
    "According to the CDC's diabetes site, common risk factors for Type I diabetes include having first relatives with Type I diabetes and age. On the other hand, factors of Type II diabetes include being overweight, age, having first relatives with Type II diabetes, and being an African American, Hispanic or Latino, American Indian, or Alaska Native person. There is no differentiation between Type I and Type II diabetes in this dataset, so all independent variables identified are risk factors contributing to increased diabetes risk overall."
   ]
  },
  {
   "cell_type": "markdown",
   "id": "2f4e8c77",
   "metadata": {
    "papermill": {
     "duration": 0.018301,
     "end_time": "2023-02-01T03:04:23.918389",
     "exception": false,
     "start_time": "2023-02-01T03:04:23.900088",
     "status": "completed"
    },
    "tags": []
   },
   "source": [
    "## Import Python Modules and Data"
   ]
  },
  {
   "cell_type": "code",
   "execution_count": 1,
   "id": "4e7444da",
   "metadata": {
    "_cell_guid": "b1076dfc-b9ad-4769-8c92-a6c4dae69d19",
    "_uuid": "8f2839f25d086af736a60e9eeb907d3b93b6e0e5",
    "execution": {
     "iopub.execute_input": "2023-02-01T03:04:23.962654Z",
     "iopub.status.busy": "2023-02-01T03:04:23.961538Z",
     "iopub.status.idle": "2023-02-01T03:04:25.312533Z",
     "shell.execute_reply": "2023-02-01T03:04:25.311431Z"
    },
    "papermill": {
     "duration": 1.376342,
     "end_time": "2023-02-01T03:04:25.315653",
     "exception": false,
     "start_time": "2023-02-01T03:04:23.939311",
     "status": "completed"
    },
    "tags": []
   },
   "outputs": [],
   "source": [
    "import numpy as np \n",
    "import pandas as pd \n",
    "import scipy.stats as st\n",
    "import matplotlib.pyplot as plt\n",
    "import seaborn as sns\n",
    "from sklearn.model_selection import train_test_split\n",
    "from sklearn.linear_model import LogisticRegression\n",
    "from sklearn import metrics\n",
    "from sklearn.metrics import confusion_matrix\n",
    "pd.options.mode.chained_assignment = None  # default='warn' remove warning for editing copy slice of main df"
   ]
  },
  {
   "cell_type": "code",
   "execution_count": 2,
   "id": "0ef5faa2",
   "metadata": {
    "execution": {
     "iopub.execute_input": "2023-02-01T03:04:25.351725Z",
     "iopub.status.busy": "2023-02-01T03:04:25.351279Z",
     "iopub.status.idle": "2023-02-01T03:04:25.419109Z",
     "shell.execute_reply": "2023-02-01T03:04:25.418117Z"
    },
    "papermill": {
     "duration": 0.0891,
     "end_time": "2023-02-01T03:04:25.421890",
     "exception": false,
     "start_time": "2023-02-01T03:04:25.332790",
     "status": "completed"
    },
    "tags": []
   },
   "outputs": [],
   "source": [
    "cat = pd.read_csv(\"/kaggle/input/cdc-diabetes-data/data_categorical.csv\")\n",
    "num = pd.read_csv(\"/kaggle/input/cdc-diabetes-data/data_numeric.csv\")\n",
    "ord = pd.read_csv(\"/kaggle/input/cdc-diabetes-data/data_ordinal.csv\")"
   ]
  },
  {
   "cell_type": "markdown",
   "id": "9b4ca68d",
   "metadata": {
    "papermill": {
     "duration": 0.01637,
     "end_time": "2023-02-01T03:04:25.454940",
     "exception": false,
     "start_time": "2023-02-01T03:04:25.438570",
     "status": "completed"
    },
    "tags": []
   },
   "source": [
    "## Data Cleaning"
   ]
  },
  {
   "cell_type": "markdown",
   "id": "e5302e7f",
   "metadata": {
    "papermill": {
     "duration": 0.016174,
     "end_time": "2023-02-01T03:04:25.487630",
     "exception": false,
     "start_time": "2023-02-01T03:04:25.471456",
     "status": "completed"
    },
    "tags": []
   },
   "source": [
    "Merging dataframes and removing duplicate columns."
   ]
  },
  {
   "cell_type": "code",
   "execution_count": 3,
   "id": "2b6bca4f",
   "metadata": {
    "execution": {
     "iopub.execute_input": "2023-02-01T03:04:25.524387Z",
     "iopub.status.busy": "2023-02-01T03:04:25.523489Z",
     "iopub.status.idle": "2023-02-01T03:04:25.539969Z",
     "shell.execute_reply": "2023-02-01T03:04:25.538880Z"
    },
    "papermill": {
     "duration": 0.037432,
     "end_time": "2023-02-01T03:04:25.542630",
     "exception": false,
     "start_time": "2023-02-01T03:04:25.505198",
     "status": "completed"
    },
    "tags": []
   },
   "outputs": [],
   "source": [
    "cat = cat.drop(['DIABETE3.1', 'MARITAL.1'], axis = 1)"
   ]
  },
  {
   "cell_type": "code",
   "execution_count": 4,
   "id": "27503a62",
   "metadata": {
    "execution": {
     "iopub.execute_input": "2023-02-01T03:04:25.578504Z",
     "iopub.status.busy": "2023-02-01T03:04:25.577964Z",
     "iopub.status.idle": "2023-02-01T03:04:25.627074Z",
     "shell.execute_reply": "2023-02-01T03:04:25.626196Z"
    },
    "papermill": {
     "duration": 0.070193,
     "end_time": "2023-02-01T03:04:25.629704",
     "exception": false,
     "start_time": "2023-02-01T03:04:25.559511",
     "status": "completed"
    },
    "tags": []
   },
   "outputs": [
    {
     "data": {
      "text/html": [
       "<div>\n",
       "<style scoped>\n",
       "    .dataframe tbody tr th:only-of-type {\n",
       "        vertical-align: middle;\n",
       "    }\n",
       "\n",
       "    .dataframe tbody tr th {\n",
       "        vertical-align: top;\n",
       "    }\n",
       "\n",
       "    .dataframe thead th {\n",
       "        text-align: right;\n",
       "    }\n",
       "</style>\n",
       "<table border=\"1\" class=\"dataframe\">\n",
       "  <thead>\n",
       "    <tr style=\"text-align: right;\">\n",
       "      <th></th>\n",
       "      <th>PERSONID</th>\n",
       "      <th>DIABETE3</th>\n",
       "      <th>_RACE</th>\n",
       "      <th>MSCODE</th>\n",
       "      <th>FLUSHOT6</th>\n",
       "      <th>EMPLOY1</th>\n",
       "      <th>SEX</th>\n",
       "      <th>MARITAL</th>\n",
       "      <th>CVDCRHD4</th>\n",
       "      <th>HLTHCVR1</th>\n",
       "      <th>...</th>\n",
       "      <th>ASTHMA3</th>\n",
       "      <th>GENHLTH</th>\n",
       "      <th>_AGEG5YR</th>\n",
       "      <th>_BMI5CAT</th>\n",
       "      <th>CHECKUP1</th>\n",
       "      <th>INCOME2</th>\n",
       "      <th>_EDUCAG</th>\n",
       "      <th>SLEPTIM1</th>\n",
       "      <th>MENTHLTH</th>\n",
       "      <th>_SMOKER3</th>\n",
       "    </tr>\n",
       "  </thead>\n",
       "  <tbody>\n",
       "    <tr>\n",
       "      <th>0</th>\n",
       "      <td>355467</td>\n",
       "      <td>3.0</td>\n",
       "      <td>2.0</td>\n",
       "      <td>NaN</td>\n",
       "      <td>2.0</td>\n",
       "      <td>1.0</td>\n",
       "      <td>1.0</td>\n",
       "      <td>6.0</td>\n",
       "      <td>2.0</td>\n",
       "      <td>7.0</td>\n",
       "      <td>...</td>\n",
       "      <td>2.0</td>\n",
       "      <td>1.0</td>\n",
       "      <td>6.0</td>\n",
       "      <td>3.0</td>\n",
       "      <td>3.0</td>\n",
       "      <td>3.0</td>\n",
       "      <td>3.0</td>\n",
       "      <td>6.0</td>\n",
       "      <td>88.0</td>\n",
       "      <td>4.0</td>\n",
       "    </tr>\n",
       "    <tr>\n",
       "      <th>1</th>\n",
       "      <td>117235</td>\n",
       "      <td>3.0</td>\n",
       "      <td>1.0</td>\n",
       "      <td>5.0</td>\n",
       "      <td>1.0</td>\n",
       "      <td>7.0</td>\n",
       "      <td>2.0</td>\n",
       "      <td>3.0</td>\n",
       "      <td>2.0</td>\n",
       "      <td>2.0</td>\n",
       "      <td>...</td>\n",
       "      <td>2.0</td>\n",
       "      <td>1.0</td>\n",
       "      <td>10.0</td>\n",
       "      <td>3.0</td>\n",
       "      <td>1.0</td>\n",
       "      <td>4.0</td>\n",
       "      <td>2.0</td>\n",
       "      <td>7.0</td>\n",
       "      <td>88.0</td>\n",
       "      <td>4.0</td>\n",
       "    </tr>\n",
       "    <tr>\n",
       "      <th>2</th>\n",
       "      <td>268614</td>\n",
       "      <td>3.0</td>\n",
       "      <td>1.0</td>\n",
       "      <td>1.0</td>\n",
       "      <td>1.0</td>\n",
       "      <td>7.0</td>\n",
       "      <td>2.0</td>\n",
       "      <td>3.0</td>\n",
       "      <td>2.0</td>\n",
       "      <td>3.0</td>\n",
       "      <td>...</td>\n",
       "      <td>2.0</td>\n",
       "      <td>2.0</td>\n",
       "      <td>12.0</td>\n",
       "      <td>2.0</td>\n",
       "      <td>1.0</td>\n",
       "      <td>3.0</td>\n",
       "      <td>2.0</td>\n",
       "      <td>8.0</td>\n",
       "      <td>2.0</td>\n",
       "      <td>4.0</td>\n",
       "    </tr>\n",
       "    <tr>\n",
       "      <th>3</th>\n",
       "      <td>332821</td>\n",
       "      <td>3.0</td>\n",
       "      <td>4.0</td>\n",
       "      <td>NaN</td>\n",
       "      <td>2.0</td>\n",
       "      <td>1.0</td>\n",
       "      <td>1.0</td>\n",
       "      <td>1.0</td>\n",
       "      <td>2.0</td>\n",
       "      <td>NaN</td>\n",
       "      <td>...</td>\n",
       "      <td>2.0</td>\n",
       "      <td>2.0</td>\n",
       "      <td>3.0</td>\n",
       "      <td>2.0</td>\n",
       "      <td>1.0</td>\n",
       "      <td>8.0</td>\n",
       "      <td>4.0</td>\n",
       "      <td>6.0</td>\n",
       "      <td>15.0</td>\n",
       "      <td>3.0</td>\n",
       "    </tr>\n",
       "    <tr>\n",
       "      <th>4</th>\n",
       "      <td>348522</td>\n",
       "      <td>3.0</td>\n",
       "      <td>1.0</td>\n",
       "      <td>NaN</td>\n",
       "      <td>1.0</td>\n",
       "      <td>1.0</td>\n",
       "      <td>2.0</td>\n",
       "      <td>1.0</td>\n",
       "      <td>2.0</td>\n",
       "      <td>1.0</td>\n",
       "      <td>...</td>\n",
       "      <td>2.0</td>\n",
       "      <td>2.0</td>\n",
       "      <td>9.0</td>\n",
       "      <td>2.0</td>\n",
       "      <td>2.0</td>\n",
       "      <td>8.0</td>\n",
       "      <td>3.0</td>\n",
       "      <td>7.0</td>\n",
       "      <td>88.0</td>\n",
       "      <td>4.0</td>\n",
       "    </tr>\n",
       "  </tbody>\n",
       "</table>\n",
       "<p>5 rows × 30 columns</p>\n",
       "</div>"
      ],
      "text/plain": [
       "   PERSONID  DIABETE3  _RACE  MSCODE  FLUSHOT6  EMPLOY1  SEX  MARITAL  \\\n",
       "0    355467       3.0    2.0     NaN       2.0      1.0  1.0      6.0   \n",
       "1    117235       3.0    1.0     5.0       1.0      7.0  2.0      3.0   \n",
       "2    268614       3.0    1.0     1.0       1.0      7.0  2.0      3.0   \n",
       "3    332821       3.0    4.0     NaN       2.0      1.0  1.0      1.0   \n",
       "4    348522       3.0    1.0     NaN       1.0      1.0  2.0      1.0   \n",
       "\n",
       "   CVDCRHD4  HLTHCVR1  ...  ASTHMA3  GENHLTH  _AGEG5YR  _BMI5CAT  CHECKUP1  \\\n",
       "0       2.0       7.0  ...      2.0      1.0       6.0       3.0       3.0   \n",
       "1       2.0       2.0  ...      2.0      1.0      10.0       3.0       1.0   \n",
       "2       2.0       3.0  ...      2.0      2.0      12.0       2.0       1.0   \n",
       "3       2.0       NaN  ...      2.0      2.0       3.0       2.0       1.0   \n",
       "4       2.0       1.0  ...      2.0      2.0       9.0       2.0       2.0   \n",
       "\n",
       "   INCOME2  _EDUCAG  SLEPTIM1  MENTHLTH  _SMOKER3  \n",
       "0      3.0      3.0       6.0      88.0       4.0  \n",
       "1      4.0      2.0       7.0      88.0       4.0  \n",
       "2      3.0      2.0       8.0       2.0       4.0  \n",
       "3      8.0      4.0       6.0      15.0       3.0  \n",
       "4      8.0      3.0       7.0      88.0       4.0  \n",
       "\n",
       "[5 rows x 30 columns]"
      ]
     },
     "execution_count": 4,
     "metadata": {},
     "output_type": "execute_result"
    }
   ],
   "source": [
    "#merge ordinal and categorical datasets\n",
    "df_twodata = pd.merge(cat, ord, how = 'inner', left_on = ['DIABETE3', 'PERSONID'], \n",
    "                  right_on = ['DIABETE3', 'PERSONID'])\n",
    "df_twodata.head()"
   ]
  },
  {
   "cell_type": "code",
   "execution_count": 5,
   "id": "400a456b",
   "metadata": {
    "execution": {
     "iopub.execute_input": "2023-02-01T03:04:25.666441Z",
     "iopub.status.busy": "2023-02-01T03:04:25.665937Z",
     "iopub.status.idle": "2023-02-01T03:04:25.672169Z",
     "shell.execute_reply": "2023-02-01T03:04:25.671064Z"
    },
    "papermill": {
     "duration": 0.027272,
     "end_time": "2023-02-01T03:04:25.674410",
     "exception": false,
     "start_time": "2023-02-01T03:04:25.647138",
     "status": "completed"
    },
    "tags": []
   },
   "outputs": [],
   "source": [
    "#Determine which columns in numeric not part of df_twodata\n",
    "different_cols = num.columns.difference(df_twodata.columns) "
   ]
  },
  {
   "cell_type": "code",
   "execution_count": 6,
   "id": "a94316a8",
   "metadata": {
    "execution": {
     "iopub.execute_input": "2023-02-01T03:04:25.712400Z",
     "iopub.status.busy": "2023-02-01T03:04:25.710996Z",
     "iopub.status.idle": "2023-02-01T03:04:25.717003Z",
     "shell.execute_reply": "2023-02-01T03:04:25.716095Z"
    },
    "papermill": {
     "duration": 0.027059,
     "end_time": "2023-02-01T03:04:25.719224",
     "exception": false,
     "start_time": "2023-02-01T03:04:25.692165",
     "status": "completed"
    },
    "tags": []
   },
   "outputs": [],
   "source": [
    "num2 = num[different_cols] #Index slice will exclude duplicate columns"
   ]
  },
  {
   "cell_type": "code",
   "execution_count": 7,
   "id": "96bd2f83",
   "metadata": {
    "execution": {
     "iopub.execute_input": "2023-02-01T03:04:25.755670Z",
     "iopub.status.busy": "2023-02-01T03:04:25.755221Z",
     "iopub.status.idle": "2023-02-01T03:04:25.764391Z",
     "shell.execute_reply": "2023-02-01T03:04:25.763384Z"
    },
    "papermill": {
     "duration": 0.03027,
     "end_time": "2023-02-01T03:04:25.766770",
     "exception": false,
     "start_time": "2023-02-01T03:04:25.736500",
     "status": "completed"
    },
    "tags": []
   },
   "outputs": [],
   "source": [
    "df = pd.merge(df_twodata, num2, how = 'inner', left_index=True, right_index=True)\n",
    "#Merge completed and duplicates removed"
   ]
  },
  {
   "cell_type": "code",
   "execution_count": 8,
   "id": "5cd55fa0",
   "metadata": {
    "execution": {
     "iopub.execute_input": "2023-02-01T03:04:25.804935Z",
     "iopub.status.busy": "2023-02-01T03:04:25.803407Z",
     "iopub.status.idle": "2023-02-01T03:04:25.838447Z",
     "shell.execute_reply": "2023-02-01T03:04:25.837040Z"
    },
    "papermill": {
     "duration": 0.056862,
     "end_time": "2023-02-01T03:04:25.841187",
     "exception": false,
     "start_time": "2023-02-01T03:04:25.784325",
     "status": "completed"
    },
    "tags": []
   },
   "outputs": [
    {
     "data": {
      "text/html": [
       "<div>\n",
       "<style scoped>\n",
       "    .dataframe tbody tr th:only-of-type {\n",
       "        vertical-align: middle;\n",
       "    }\n",
       "\n",
       "    .dataframe tbody tr th {\n",
       "        vertical-align: top;\n",
       "    }\n",
       "\n",
       "    .dataframe thead th {\n",
       "        text-align: right;\n",
       "    }\n",
       "</style>\n",
       "<table border=\"1\" class=\"dataframe\">\n",
       "  <thead>\n",
       "    <tr style=\"text-align: right;\">\n",
       "      <th></th>\n",
       "      <th>DIABETE3</th>\n",
       "      <th>_RACE</th>\n",
       "      <th>MSCODE</th>\n",
       "      <th>FLUSHOT6</th>\n",
       "      <th>EMPLOY1</th>\n",
       "      <th>SEX</th>\n",
       "      <th>MARITAL</th>\n",
       "      <th>CVDCRHD4</th>\n",
       "      <th>HLTHCVR1</th>\n",
       "      <th>CHCKIDNY</th>\n",
       "      <th>...</th>\n",
       "      <th>CHECKUP1</th>\n",
       "      <th>INCOME2</th>\n",
       "      <th>_EDUCAG</th>\n",
       "      <th>SLEPTIM1</th>\n",
       "      <th>MENTHLTH</th>\n",
       "      <th>_SMOKER3</th>\n",
       "      <th>CHILDREN</th>\n",
       "      <th>DRVISITS</th>\n",
       "      <th>NUMADULT</th>\n",
       "      <th>WEIGHT2</th>\n",
       "    </tr>\n",
       "    <tr>\n",
       "      <th>PERSONID</th>\n",
       "      <th></th>\n",
       "      <th></th>\n",
       "      <th></th>\n",
       "      <th></th>\n",
       "      <th></th>\n",
       "      <th></th>\n",
       "      <th></th>\n",
       "      <th></th>\n",
       "      <th></th>\n",
       "      <th></th>\n",
       "      <th></th>\n",
       "      <th></th>\n",
       "      <th></th>\n",
       "      <th></th>\n",
       "      <th></th>\n",
       "      <th></th>\n",
       "      <th></th>\n",
       "      <th></th>\n",
       "      <th></th>\n",
       "      <th></th>\n",
       "      <th></th>\n",
       "    </tr>\n",
       "  </thead>\n",
       "  <tbody>\n",
       "    <tr>\n",
       "      <th>355467</th>\n",
       "      <td>3.0</td>\n",
       "      <td>2.0</td>\n",
       "      <td>NaN</td>\n",
       "      <td>2.0</td>\n",
       "      <td>1.0</td>\n",
       "      <td>1.0</td>\n",
       "      <td>6.0</td>\n",
       "      <td>2.0</td>\n",
       "      <td>7.0</td>\n",
       "      <td>2.0</td>\n",
       "      <td>...</td>\n",
       "      <td>3.0</td>\n",
       "      <td>3.0</td>\n",
       "      <td>3.0</td>\n",
       "      <td>6.0</td>\n",
       "      <td>88.0</td>\n",
       "      <td>4.0</td>\n",
       "      <td>2.0</td>\n",
       "      <td>6.0</td>\n",
       "      <td>NaN</td>\n",
       "      <td>180.0</td>\n",
       "    </tr>\n",
       "    <tr>\n",
       "      <th>117235</th>\n",
       "      <td>3.0</td>\n",
       "      <td>1.0</td>\n",
       "      <td>5.0</td>\n",
       "      <td>1.0</td>\n",
       "      <td>7.0</td>\n",
       "      <td>2.0</td>\n",
       "      <td>3.0</td>\n",
       "      <td>2.0</td>\n",
       "      <td>2.0</td>\n",
       "      <td>2.0</td>\n",
       "      <td>...</td>\n",
       "      <td>1.0</td>\n",
       "      <td>4.0</td>\n",
       "      <td>2.0</td>\n",
       "      <td>7.0</td>\n",
       "      <td>88.0</td>\n",
       "      <td>4.0</td>\n",
       "      <td>88.0</td>\n",
       "      <td>2.0</td>\n",
       "      <td>1.0</td>\n",
       "      <td>160.0</td>\n",
       "    </tr>\n",
       "    <tr>\n",
       "      <th>268614</th>\n",
       "      <td>3.0</td>\n",
       "      <td>1.0</td>\n",
       "      <td>1.0</td>\n",
       "      <td>1.0</td>\n",
       "      <td>7.0</td>\n",
       "      <td>2.0</td>\n",
       "      <td>3.0</td>\n",
       "      <td>2.0</td>\n",
       "      <td>3.0</td>\n",
       "      <td>2.0</td>\n",
       "      <td>...</td>\n",
       "      <td>1.0</td>\n",
       "      <td>3.0</td>\n",
       "      <td>2.0</td>\n",
       "      <td>8.0</td>\n",
       "      <td>2.0</td>\n",
       "      <td>4.0</td>\n",
       "      <td>88.0</td>\n",
       "      <td>2.0</td>\n",
       "      <td>1.0</td>\n",
       "      <td>120.0</td>\n",
       "    </tr>\n",
       "    <tr>\n",
       "      <th>332821</th>\n",
       "      <td>3.0</td>\n",
       "      <td>4.0</td>\n",
       "      <td>NaN</td>\n",
       "      <td>2.0</td>\n",
       "      <td>1.0</td>\n",
       "      <td>1.0</td>\n",
       "      <td>1.0</td>\n",
       "      <td>2.0</td>\n",
       "      <td>NaN</td>\n",
       "      <td>2.0</td>\n",
       "      <td>...</td>\n",
       "      <td>1.0</td>\n",
       "      <td>8.0</td>\n",
       "      <td>4.0</td>\n",
       "      <td>6.0</td>\n",
       "      <td>15.0</td>\n",
       "      <td>3.0</td>\n",
       "      <td>88.0</td>\n",
       "      <td>NaN</td>\n",
       "      <td>NaN</td>\n",
       "      <td>160.0</td>\n",
       "    </tr>\n",
       "    <tr>\n",
       "      <th>348522</th>\n",
       "      <td>3.0</td>\n",
       "      <td>1.0</td>\n",
       "      <td>NaN</td>\n",
       "      <td>1.0</td>\n",
       "      <td>1.0</td>\n",
       "      <td>2.0</td>\n",
       "      <td>1.0</td>\n",
       "      <td>2.0</td>\n",
       "      <td>1.0</td>\n",
       "      <td>2.0</td>\n",
       "      <td>...</td>\n",
       "      <td>2.0</td>\n",
       "      <td>8.0</td>\n",
       "      <td>3.0</td>\n",
       "      <td>7.0</td>\n",
       "      <td>88.0</td>\n",
       "      <td>4.0</td>\n",
       "      <td>88.0</td>\n",
       "      <td>1.0</td>\n",
       "      <td>NaN</td>\n",
       "      <td>129.0</td>\n",
       "    </tr>\n",
       "  </tbody>\n",
       "</table>\n",
       "<p>5 rows × 33 columns</p>\n",
       "</div>"
      ],
      "text/plain": [
       "          DIABETE3  _RACE  MSCODE  FLUSHOT6  EMPLOY1  SEX  MARITAL  CVDCRHD4  \\\n",
       "PERSONID                                                                       \n",
       "355467         3.0    2.0     NaN       2.0      1.0  1.0      6.0       2.0   \n",
       "117235         3.0    1.0     5.0       1.0      7.0  2.0      3.0       2.0   \n",
       "268614         3.0    1.0     1.0       1.0      7.0  2.0      3.0       2.0   \n",
       "332821         3.0    4.0     NaN       2.0      1.0  1.0      1.0       2.0   \n",
       "348522         3.0    1.0     NaN       1.0      1.0  2.0      1.0       2.0   \n",
       "\n",
       "          HLTHCVR1  CHCKIDNY  ...  CHECKUP1  INCOME2  _EDUCAG  SLEPTIM1  \\\n",
       "PERSONID                      ...                                         \n",
       "355467         7.0       2.0  ...       3.0      3.0      3.0       6.0   \n",
       "117235         2.0       2.0  ...       1.0      4.0      2.0       7.0   \n",
       "268614         3.0       2.0  ...       1.0      3.0      2.0       8.0   \n",
       "332821         NaN       2.0  ...       1.0      8.0      4.0       6.0   \n",
       "348522         1.0       2.0  ...       2.0      8.0      3.0       7.0   \n",
       "\n",
       "          MENTHLTH  _SMOKER3  CHILDREN  DRVISITS  NUMADULT  WEIGHT2  \n",
       "PERSONID                                                             \n",
       "355467        88.0       4.0       2.0       6.0       NaN    180.0  \n",
       "117235        88.0       4.0      88.0       2.0       1.0    160.0  \n",
       "268614         2.0       4.0      88.0       2.0       1.0    120.0  \n",
       "332821        15.0       3.0      88.0       NaN       NaN    160.0  \n",
       "348522        88.0       4.0      88.0       1.0       NaN    129.0  \n",
       "\n",
       "[5 rows x 33 columns]"
      ]
     },
     "execution_count": 8,
     "metadata": {},
     "output_type": "execute_result"
    }
   ],
   "source": [
    "df.set_index('PERSONID', inplace=True) #Set PersonID as index\n",
    "df.head()"
   ]
  },
  {
   "cell_type": "markdown",
   "id": "d4ffc829",
   "metadata": {
    "papermill": {
     "duration": 0.017442,
     "end_time": "2023-02-01T03:04:25.877769",
     "exception": false,
     "start_time": "2023-02-01T03:04:25.860327",
     "status": "completed"
    },
    "tags": []
   },
   "source": [
    "### Basic Dataframe Characteristics"
   ]
  },
  {
   "cell_type": "code",
   "execution_count": 9,
   "id": "2083164f",
   "metadata": {
    "execution": {
     "iopub.execute_input": "2023-02-01T03:04:25.919135Z",
     "iopub.status.busy": "2023-02-01T03:04:25.917941Z",
     "iopub.status.idle": "2023-02-01T03:04:25.949322Z",
     "shell.execute_reply": "2023-02-01T03:04:25.948146Z"
    },
    "papermill": {
     "duration": 0.056825,
     "end_time": "2023-02-01T03:04:25.952634",
     "exception": false,
     "start_time": "2023-02-01T03:04:25.895809",
     "status": "completed"
    },
    "tags": []
   },
   "outputs": [
    {
     "data": {
      "text/plain": [
       "<bound method DataFrame.info of           DIABETE3  _RACE  MSCODE  FLUSHOT6  EMPLOY1  SEX  MARITAL  CVDCRHD4  \\\n",
       "PERSONID                                                                       \n",
       "355467         3.0    2.0     NaN       2.0      1.0  1.0      6.0       2.0   \n",
       "117235         3.0    1.0     5.0       1.0      7.0  2.0      3.0       2.0   \n",
       "268614         3.0    1.0     1.0       1.0      7.0  2.0      3.0       2.0   \n",
       "332821         3.0    4.0     NaN       2.0      1.0  1.0      1.0       2.0   \n",
       "348522         3.0    1.0     NaN       1.0      1.0  2.0      1.0       2.0   \n",
       "...            ...    ...     ...       ...      ...  ...      ...       ...   \n",
       "447307         3.0    2.0     NaN       2.0      1.0  1.0      5.0       2.0   \n",
       "401134         3.0    1.0     1.0       1.0      1.0  2.0      5.0       2.0   \n",
       "227725         3.0    1.0     1.0       NaN      7.0  2.0      1.0       2.0   \n",
       "394805         3.0    1.0     NaN       2.0      1.0  1.0      5.0       2.0   \n",
       "168122         3.0    1.0     3.0       2.0      7.0  2.0      1.0       2.0   \n",
       "\n",
       "          HLTHCVR1  CHCKIDNY  ...  CHECKUP1  INCOME2  _EDUCAG  SLEPTIM1  \\\n",
       "PERSONID                      ...                                         \n",
       "355467         7.0       2.0  ...       3.0      3.0      3.0       6.0   \n",
       "117235         2.0       2.0  ...       1.0      4.0      2.0       7.0   \n",
       "268614         3.0       2.0  ...       1.0      3.0      2.0       8.0   \n",
       "332821         NaN       2.0  ...       1.0      8.0      4.0       6.0   \n",
       "348522         1.0       2.0  ...       2.0      8.0      3.0       7.0   \n",
       "...            ...       ...  ...       ...      ...      ...       ...   \n",
       "447307         7.0       2.0  ...       1.0     99.0      2.0       6.0   \n",
       "401134         1.0       2.0  ...       1.0     77.0      4.0      77.0   \n",
       "227725         NaN       1.0  ...       1.0      6.0      2.0       7.0   \n",
       "394805         NaN       2.0  ...       1.0     77.0      2.0       7.0   \n",
       "168122         1.0       2.0  ...       8.0      6.0      2.0       8.0   \n",
       "\n",
       "          MENTHLTH  _SMOKER3  CHILDREN  DRVISITS  NUMADULT  WEIGHT2  \n",
       "PERSONID                                                             \n",
       "355467        88.0       4.0       2.0       6.0       NaN    180.0  \n",
       "117235        88.0       4.0      88.0       2.0       1.0    160.0  \n",
       "268614         2.0       4.0      88.0       2.0       1.0    120.0  \n",
       "332821        15.0       3.0      88.0       NaN       NaN    160.0  \n",
       "348522        88.0       4.0      88.0       1.0       NaN    129.0  \n",
       "...            ...       ...       ...       ...       ...      ...  \n",
       "447307        10.0       4.0      88.0       2.0       NaN    200.0  \n",
       "401134        88.0       4.0      88.0       2.0       1.0    125.0  \n",
       "227725        30.0       3.0      88.0       NaN       2.0    150.0  \n",
       "394805        30.0       4.0      88.0       NaN       NaN    290.0  \n",
       "168122        88.0       3.0      88.0      88.0       2.0    152.0  \n",
       "\n",
       "[5000 rows x 33 columns]>"
      ]
     },
     "execution_count": 9,
     "metadata": {},
     "output_type": "execute_result"
    }
   ],
   "source": [
    "df.info"
   ]
  },
  {
   "cell_type": "code",
   "execution_count": 10,
   "id": "4feec374",
   "metadata": {
    "execution": {
     "iopub.execute_input": "2023-02-01T03:04:26.000646Z",
     "iopub.status.busy": "2023-02-01T03:04:25.999457Z",
     "iopub.status.idle": "2023-02-01T03:04:26.008937Z",
     "shell.execute_reply": "2023-02-01T03:04:26.007052Z"
    },
    "papermill": {
     "duration": 0.038344,
     "end_time": "2023-02-01T03:04:26.011812",
     "exception": false,
     "start_time": "2023-02-01T03:04:25.973468",
     "status": "completed"
    },
    "tags": []
   },
   "outputs": [
    {
     "data": {
      "text/plain": [
       "165000"
      ]
     },
     "execution_count": 10,
     "metadata": {},
     "output_type": "execute_result"
    }
   ],
   "source": [
    "df.size"
   ]
  },
  {
   "cell_type": "code",
   "execution_count": 11,
   "id": "f3188c49",
   "metadata": {
    "execution": {
     "iopub.execute_input": "2023-02-01T03:04:26.049885Z",
     "iopub.status.busy": "2023-02-01T03:04:26.049461Z",
     "iopub.status.idle": "2023-02-01T03:04:26.056676Z",
     "shell.execute_reply": "2023-02-01T03:04:26.055433Z"
    },
    "papermill": {
     "duration": 0.028914,
     "end_time": "2023-02-01T03:04:26.059026",
     "exception": false,
     "start_time": "2023-02-01T03:04:26.030112",
     "status": "completed"
    },
    "tags": []
   },
   "outputs": [
    {
     "data": {
      "text/plain": [
       "(5000, 33)"
      ]
     },
     "execution_count": 11,
     "metadata": {},
     "output_type": "execute_result"
    }
   ],
   "source": [
    "df.shape"
   ]
  },
  {
   "cell_type": "code",
   "execution_count": 12,
   "id": "4b83d447",
   "metadata": {
    "execution": {
     "iopub.execute_input": "2023-02-01T03:04:26.097005Z",
     "iopub.status.busy": "2023-02-01T03:04:26.096496Z",
     "iopub.status.idle": "2023-02-01T03:04:26.202274Z",
     "shell.execute_reply": "2023-02-01T03:04:26.200917Z"
    },
    "papermill": {
     "duration": 0.127862,
     "end_time": "2023-02-01T03:04:26.204802",
     "exception": false,
     "start_time": "2023-02-01T03:04:26.076940",
     "status": "completed"
    },
    "tags": []
   },
   "outputs": [
    {
     "data": {
      "text/html": [
       "<div>\n",
       "<style scoped>\n",
       "    .dataframe tbody tr th:only-of-type {\n",
       "        vertical-align: middle;\n",
       "    }\n",
       "\n",
       "    .dataframe tbody tr th {\n",
       "        vertical-align: top;\n",
       "    }\n",
       "\n",
       "    .dataframe thead th {\n",
       "        text-align: right;\n",
       "    }\n",
       "</style>\n",
       "<table border=\"1\" class=\"dataframe\">\n",
       "  <thead>\n",
       "    <tr style=\"text-align: right;\">\n",
       "      <th></th>\n",
       "      <th>DIABETE3</th>\n",
       "      <th>_RACE</th>\n",
       "      <th>MSCODE</th>\n",
       "      <th>FLUSHOT6</th>\n",
       "      <th>EMPLOY1</th>\n",
       "      <th>SEX</th>\n",
       "      <th>MARITAL</th>\n",
       "      <th>CVDCRHD4</th>\n",
       "      <th>HLTHCVR1</th>\n",
       "      <th>CHCKIDNY</th>\n",
       "      <th>...</th>\n",
       "      <th>CHECKUP1</th>\n",
       "      <th>INCOME2</th>\n",
       "      <th>_EDUCAG</th>\n",
       "      <th>SLEPTIM1</th>\n",
       "      <th>MENTHLTH</th>\n",
       "      <th>_SMOKER3</th>\n",
       "      <th>CHILDREN</th>\n",
       "      <th>DRVISITS</th>\n",
       "      <th>NUMADULT</th>\n",
       "      <th>WEIGHT2</th>\n",
       "    </tr>\n",
       "  </thead>\n",
       "  <tbody>\n",
       "    <tr>\n",
       "      <th>count</th>\n",
       "      <td>5000.000000</td>\n",
       "      <td>4997.000000</td>\n",
       "      <td>3187.000000</td>\n",
       "      <td>4762.000000</td>\n",
       "      <td>4981.000000</td>\n",
       "      <td>5000.000000</td>\n",
       "      <td>4990.000000</td>\n",
       "      <td>5000.000000</td>\n",
       "      <td>3318.000000</td>\n",
       "      <td>5000.000000</td>\n",
       "      <td>...</td>\n",
       "      <td>5000.000000</td>\n",
       "      <td>4962.000000</td>\n",
       "      <td>5000.000000</td>\n",
       "      <td>5000.000000</td>\n",
       "      <td>5000.000000</td>\n",
       "      <td>5000.000000</td>\n",
       "      <td>4988.000000</td>\n",
       "      <td>3567.000000</td>\n",
       "      <td>3240.000000</td>\n",
       "      <td>4950.000000</td>\n",
       "    </tr>\n",
       "    <tr>\n",
       "      <th>mean</th>\n",
       "      <td>2.764200</td>\n",
       "      <td>1.982389</td>\n",
       "      <td>2.867587</td>\n",
       "      <td>1.569929</td>\n",
       "      <td>3.924513</td>\n",
       "      <td>1.589200</td>\n",
       "      <td>2.229259</td>\n",
       "      <td>1.984800</td>\n",
       "      <td>3.897529</td>\n",
       "      <td>1.990800</td>\n",
       "      <td>...</td>\n",
       "      <td>1.588400</td>\n",
       "      <td>17.937525</td>\n",
       "      <td>2.988200</td>\n",
       "      <td>7.942400</td>\n",
       "      <td>65.437000</td>\n",
       "      <td>3.556200</td>\n",
       "      <td>65.691059</td>\n",
       "      <td>16.079619</td>\n",
       "      <td>1.798765</td>\n",
       "      <td>588.407071</td>\n",
       "    </tr>\n",
       "    <tr>\n",
       "      <th>std</th>\n",
       "      <td>0.715193</td>\n",
       "      <td>2.241631</td>\n",
       "      <td>1.688382</td>\n",
       "      <td>0.725393</td>\n",
       "      <td>2.856319</td>\n",
       "      <td>0.492028</td>\n",
       "      <td>1.659157</td>\n",
       "      <td>0.571519</td>\n",
       "      <td>11.832709</td>\n",
       "      <td>0.435377</td>\n",
       "      <td>...</td>\n",
       "      <td>1.256225</td>\n",
       "      <td>29.923320</td>\n",
       "      <td>1.127437</td>\n",
       "      <td>8.228574</td>\n",
       "      <td>35.469943</td>\n",
       "      <td>1.513043</td>\n",
       "      <td>37.779210</td>\n",
       "      <td>27.913442</td>\n",
       "      <td>0.794935</td>\n",
       "      <td>1910.764319</td>\n",
       "    </tr>\n",
       "    <tr>\n",
       "      <th>min</th>\n",
       "      <td>1.000000</td>\n",
       "      <td>1.000000</td>\n",
       "      <td>1.000000</td>\n",
       "      <td>1.000000</td>\n",
       "      <td>1.000000</td>\n",
       "      <td>1.000000</td>\n",
       "      <td>1.000000</td>\n",
       "      <td>1.000000</td>\n",
       "      <td>1.000000</td>\n",
       "      <td>1.000000</td>\n",
       "      <td>...</td>\n",
       "      <td>1.000000</td>\n",
       "      <td>1.000000</td>\n",
       "      <td>1.000000</td>\n",
       "      <td>1.000000</td>\n",
       "      <td>1.000000</td>\n",
       "      <td>1.000000</td>\n",
       "      <td>1.000000</td>\n",
       "      <td>1.000000</td>\n",
       "      <td>1.000000</td>\n",
       "      <td>75.000000</td>\n",
       "    </tr>\n",
       "    <tr>\n",
       "      <th>25%</th>\n",
       "      <td>3.000000</td>\n",
       "      <td>1.000000</td>\n",
       "      <td>1.000000</td>\n",
       "      <td>1.000000</td>\n",
       "      <td>1.000000</td>\n",
       "      <td>1.000000</td>\n",
       "      <td>1.000000</td>\n",
       "      <td>2.000000</td>\n",
       "      <td>1.000000</td>\n",
       "      <td>2.000000</td>\n",
       "      <td>...</td>\n",
       "      <td>1.000000</td>\n",
       "      <td>5.000000</td>\n",
       "      <td>2.000000</td>\n",
       "      <td>6.000000</td>\n",
       "      <td>30.000000</td>\n",
       "      <td>3.000000</td>\n",
       "      <td>4.000000</td>\n",
       "      <td>2.000000</td>\n",
       "      <td>1.000000</td>\n",
       "      <td>145.000000</td>\n",
       "    </tr>\n",
       "    <tr>\n",
       "      <th>50%</th>\n",
       "      <td>3.000000</td>\n",
       "      <td>1.000000</td>\n",
       "      <td>3.000000</td>\n",
       "      <td>2.000000</td>\n",
       "      <td>3.000000</td>\n",
       "      <td>2.000000</td>\n",
       "      <td>1.000000</td>\n",
       "      <td>2.000000</td>\n",
       "      <td>2.000000</td>\n",
       "      <td>2.000000</td>\n",
       "      <td>...</td>\n",
       "      <td>1.000000</td>\n",
       "      <td>7.000000</td>\n",
       "      <td>3.000000</td>\n",
       "      <td>7.000000</td>\n",
       "      <td>88.000000</td>\n",
       "      <td>4.000000</td>\n",
       "      <td>88.000000</td>\n",
       "      <td>4.000000</td>\n",
       "      <td>2.000000</td>\n",
       "      <td>175.000000</td>\n",
       "    </tr>\n",
       "    <tr>\n",
       "      <th>75%</th>\n",
       "      <td>3.000000</td>\n",
       "      <td>1.000000</td>\n",
       "      <td>5.000000</td>\n",
       "      <td>2.000000</td>\n",
       "      <td>7.000000</td>\n",
       "      <td>2.000000</td>\n",
       "      <td>3.000000</td>\n",
       "      <td>2.000000</td>\n",
       "      <td>3.000000</td>\n",
       "      <td>2.000000</td>\n",
       "      <td>...</td>\n",
       "      <td>2.000000</td>\n",
       "      <td>8.000000</td>\n",
       "      <td>4.000000</td>\n",
       "      <td>8.000000</td>\n",
       "      <td>88.000000</td>\n",
       "      <td>4.000000</td>\n",
       "      <td>88.000000</td>\n",
       "      <td>10.000000</td>\n",
       "      <td>2.000000</td>\n",
       "      <td>205.000000</td>\n",
       "    </tr>\n",
       "    <tr>\n",
       "      <th>max</th>\n",
       "      <td>9.000000</td>\n",
       "      <td>9.000000</td>\n",
       "      <td>5.000000</td>\n",
       "      <td>9.000000</td>\n",
       "      <td>9.000000</td>\n",
       "      <td>2.000000</td>\n",
       "      <td>9.000000</td>\n",
       "      <td>9.000000</td>\n",
       "      <td>99.000000</td>\n",
       "      <td>9.000000</td>\n",
       "      <td>...</td>\n",
       "      <td>9.000000</td>\n",
       "      <td>99.000000</td>\n",
       "      <td>9.000000</td>\n",
       "      <td>99.000000</td>\n",
       "      <td>99.000000</td>\n",
       "      <td>9.000000</td>\n",
       "      <td>99.000000</td>\n",
       "      <td>99.000000</td>\n",
       "      <td>7.000000</td>\n",
       "      <td>9999.000000</td>\n",
       "    </tr>\n",
       "  </tbody>\n",
       "</table>\n",
       "<p>8 rows × 33 columns</p>\n",
       "</div>"
      ],
      "text/plain": [
       "          DIABETE3        _RACE       MSCODE     FLUSHOT6      EMPLOY1  \\\n",
       "count  5000.000000  4997.000000  3187.000000  4762.000000  4981.000000   \n",
       "mean      2.764200     1.982389     2.867587     1.569929     3.924513   \n",
       "std       0.715193     2.241631     1.688382     0.725393     2.856319   \n",
       "min       1.000000     1.000000     1.000000     1.000000     1.000000   \n",
       "25%       3.000000     1.000000     1.000000     1.000000     1.000000   \n",
       "50%       3.000000     1.000000     3.000000     2.000000     3.000000   \n",
       "75%       3.000000     1.000000     5.000000     2.000000     7.000000   \n",
       "max       9.000000     9.000000     5.000000     9.000000     9.000000   \n",
       "\n",
       "               SEX      MARITAL     CVDCRHD4     HLTHCVR1     CHCKIDNY  ...  \\\n",
       "count  5000.000000  4990.000000  5000.000000  3318.000000  5000.000000  ...   \n",
       "mean      1.589200     2.229259     1.984800     3.897529     1.990800  ...   \n",
       "std       0.492028     1.659157     0.571519    11.832709     0.435377  ...   \n",
       "min       1.000000     1.000000     1.000000     1.000000     1.000000  ...   \n",
       "25%       1.000000     1.000000     2.000000     1.000000     2.000000  ...   \n",
       "50%       2.000000     1.000000     2.000000     2.000000     2.000000  ...   \n",
       "75%       2.000000     3.000000     2.000000     3.000000     2.000000  ...   \n",
       "max       2.000000     9.000000     9.000000    99.000000     9.000000  ...   \n",
       "\n",
       "          CHECKUP1      INCOME2      _EDUCAG     SLEPTIM1     MENTHLTH  \\\n",
       "count  5000.000000  4962.000000  5000.000000  5000.000000  5000.000000   \n",
       "mean      1.588400    17.937525     2.988200     7.942400    65.437000   \n",
       "std       1.256225    29.923320     1.127437     8.228574    35.469943   \n",
       "min       1.000000     1.000000     1.000000     1.000000     1.000000   \n",
       "25%       1.000000     5.000000     2.000000     6.000000    30.000000   \n",
       "50%       1.000000     7.000000     3.000000     7.000000    88.000000   \n",
       "75%       2.000000     8.000000     4.000000     8.000000    88.000000   \n",
       "max       9.000000    99.000000     9.000000    99.000000    99.000000   \n",
       "\n",
       "          _SMOKER3     CHILDREN     DRVISITS     NUMADULT      WEIGHT2  \n",
       "count  5000.000000  4988.000000  3567.000000  3240.000000  4950.000000  \n",
       "mean      3.556200    65.691059    16.079619     1.798765   588.407071  \n",
       "std       1.513043    37.779210    27.913442     0.794935  1910.764319  \n",
       "min       1.000000     1.000000     1.000000     1.000000    75.000000  \n",
       "25%       3.000000     4.000000     2.000000     1.000000   145.000000  \n",
       "50%       4.000000    88.000000     4.000000     2.000000   175.000000  \n",
       "75%       4.000000    88.000000    10.000000     2.000000   205.000000  \n",
       "max       9.000000    99.000000    99.000000     7.000000  9999.000000  \n",
       "\n",
       "[8 rows x 33 columns]"
      ]
     },
     "execution_count": 12,
     "metadata": {},
     "output_type": "execute_result"
    }
   ],
   "source": [
    "df.describe()"
   ]
  },
  {
   "cell_type": "code",
   "execution_count": 13,
   "id": "4163d687",
   "metadata": {
    "execution": {
     "iopub.execute_input": "2023-02-01T03:04:26.243873Z",
     "iopub.status.busy": "2023-02-01T03:04:26.243403Z",
     "iopub.status.idle": "2023-02-01T03:04:26.252429Z",
     "shell.execute_reply": "2023-02-01T03:04:26.251358Z"
    },
    "papermill": {
     "duration": 0.031458,
     "end_time": "2023-02-01T03:04:26.254812",
     "exception": false,
     "start_time": "2023-02-01T03:04:26.223354",
     "status": "completed"
    },
    "tags": []
   },
   "outputs": [
    {
     "data": {
      "text/plain": [
       "float64    33\n",
       "dtype: int64"
      ]
     },
     "execution_count": 13,
     "metadata": {},
     "output_type": "execute_result"
    }
   ],
   "source": [
    "df.dtypes.value_counts()"
   ]
  },
  {
   "cell_type": "markdown",
   "id": "12263658",
   "metadata": {
    "papermill": {
     "duration": 0.018197,
     "end_time": "2023-02-01T03:04:26.292477",
     "exception": false,
     "start_time": "2023-02-01T03:04:26.274280",
     "status": "completed"
    },
    "tags": []
   },
   "source": [
    "Based on the dataframe characteristics above, all variables are floats, and there are null values in some columns except for in ['DIABETE3']."
   ]
  },
  {
   "cell_type": "markdown",
   "id": "98b4175a",
   "metadata": {
    "papermill": {
     "duration": 0.018049,
     "end_time": "2023-02-01T03:04:26.329077",
     "exception": false,
     "start_time": "2023-02-01T03:04:26.311028",
     "status": "completed"
    },
    "tags": []
   },
   "source": [
    "### Normalize Dependent Variable"
   ]
  },
  {
   "cell_type": "markdown",
   "id": "540e38f7",
   "metadata": {
    "papermill": {
     "duration": 0.017888,
     "end_time": "2023-02-01T03:04:26.365308",
     "exception": false,
     "start_time": "2023-02-01T03:04:26.347420",
     "status": "completed"
    },
    "tags": []
   },
   "source": [
    "Normalizing the diabetes dependent variable will rescale the values into a range of [0, 1] (\"Yes, has diabetes\" = 1, \"No diabetes\" = 0) since a binary dependent variable will be easier for statistical and logistical analysis. Even though the outliers of the data will be lost, there are very few outliers for the diabetes variable in this dataset. Normalizing also transforms the data to be more concise as there are only two classifications for diabetes using .map(). "
   ]
  },
  {
   "cell_type": "code",
   "execution_count": 14,
   "id": "274b3a6e",
   "metadata": {
    "execution": {
     "iopub.execute_input": "2023-02-01T03:04:26.404777Z",
     "iopub.status.busy": "2023-02-01T03:04:26.404327Z",
     "iopub.status.idle": "2023-02-01T03:04:26.416182Z",
     "shell.execute_reply": "2023-02-01T03:04:26.414994Z"
    },
    "papermill": {
     "duration": 0.034181,
     "end_time": "2023-02-01T03:04:26.418510",
     "exception": false,
     "start_time": "2023-02-01T03:04:26.384329",
     "status": "completed"
    },
    "tags": []
   },
   "outputs": [
    {
     "data": {
      "text/plain": [
       "3.0    4251\n",
       "1.0     627\n",
       "4.0      76\n",
       "2.0      39\n",
       "9.0       5\n",
       "7.0       2\n",
       "Name: DIABETE3, dtype: int64"
      ]
     },
     "execution_count": 14,
     "metadata": {},
     "output_type": "execute_result"
    }
   ],
   "source": [
    "df['DIABETE3'].value_counts() "
   ]
  },
  {
   "cell_type": "code",
   "execution_count": 15,
   "id": "280c37a5",
   "metadata": {
    "execution": {
     "iopub.execute_input": "2023-02-01T03:04:26.458693Z",
     "iopub.status.busy": "2023-02-01T03:04:26.457888Z",
     "iopub.status.idle": "2023-02-01T03:04:26.465889Z",
     "shell.execute_reply": "2023-02-01T03:04:26.464768Z"
    },
    "papermill": {
     "duration": 0.030982,
     "end_time": "2023-02-01T03:04:26.468471",
     "exception": false,
     "start_time": "2023-02-01T03:04:26.437489",
     "status": "completed"
    },
    "tags": []
   },
   "outputs": [],
   "source": [
    "df['DIABETE3'] = df['DIABETE3'].map({1:1, 2:1, 3:0, 4:0}) #Classify data into two categories: \"Yes, has diabetes\" = 1, \"No diabetes\" = 0. \n",
    "#Outliers (7 & 9) are turned into null values."
   ]
  },
  {
   "cell_type": "code",
   "execution_count": 16,
   "id": "f34098f6",
   "metadata": {
    "execution": {
     "iopub.execute_input": "2023-02-01T03:04:26.507966Z",
     "iopub.status.busy": "2023-02-01T03:04:26.507472Z",
     "iopub.status.idle": "2023-02-01T03:04:26.516421Z",
     "shell.execute_reply": "2023-02-01T03:04:26.514988Z"
    },
    "papermill": {
     "duration": 0.031597,
     "end_time": "2023-02-01T03:04:26.519048",
     "exception": false,
     "start_time": "2023-02-01T03:04:26.487451",
     "status": "completed"
    },
    "tags": []
   },
   "outputs": [
    {
     "data": {
      "text/plain": [
       "7"
      ]
     },
     "execution_count": 16,
     "metadata": {},
     "output_type": "execute_result"
    }
   ],
   "source": [
    "df['DIABETE3'].isnull().sum() "
   ]
  },
  {
   "cell_type": "code",
   "execution_count": 17,
   "id": "13f5963c",
   "metadata": {
    "execution": {
     "iopub.execute_input": "2023-02-01T03:04:26.560830Z",
     "iopub.status.busy": "2023-02-01T03:04:26.560342Z",
     "iopub.status.idle": "2023-02-01T03:04:26.569458Z",
     "shell.execute_reply": "2023-02-01T03:04:26.568503Z"
    },
    "papermill": {
     "duration": 0.032418,
     "end_time": "2023-02-01T03:04:26.571497",
     "exception": false,
     "start_time": "2023-02-01T03:04:26.539079",
     "status": "completed"
    },
    "tags": []
   },
   "outputs": [],
   "source": [
    "df = df.dropna(subset=['DIABETE3']) #Remove null rows because they do not contribute to dependent variable and cause nan errors for later analysis"
   ]
  },
  {
   "cell_type": "code",
   "execution_count": 18,
   "id": "40053027",
   "metadata": {
    "execution": {
     "iopub.execute_input": "2023-02-01T03:04:26.611276Z",
     "iopub.status.busy": "2023-02-01T03:04:26.610771Z",
     "iopub.status.idle": "2023-02-01T03:04:26.618548Z",
     "shell.execute_reply": "2023-02-01T03:04:26.617658Z"
    },
    "papermill": {
     "duration": 0.030125,
     "end_time": "2023-02-01T03:04:26.620681",
     "exception": false,
     "start_time": "2023-02-01T03:04:26.590556",
     "status": "completed"
    },
    "tags": []
   },
   "outputs": [
    {
     "data": {
      "text/plain": [
       "0"
      ]
     },
     "execution_count": 18,
     "metadata": {},
     "output_type": "execute_result"
    }
   ],
   "source": [
    "df['DIABETE3'].isnull().sum() #Verify nulls removed"
   ]
  },
  {
   "cell_type": "markdown",
   "id": "7a75210a",
   "metadata": {
    "papermill": {
     "duration": 0.018345,
     "end_time": "2023-02-01T03:04:26.657893",
     "exception": false,
     "start_time": "2023-02-01T03:04:26.639548",
     "status": "completed"
    },
    "tags": []
   },
   "source": [
    "### Investigating Other Null and Infinite Data"
   ]
  },
  {
   "cell_type": "code",
   "execution_count": 19,
   "id": "1342d82c",
   "metadata": {
    "execution": {
     "iopub.execute_input": "2023-02-01T03:04:26.697545Z",
     "iopub.status.busy": "2023-02-01T03:04:26.697012Z",
     "iopub.status.idle": "2023-02-01T03:04:26.708346Z",
     "shell.execute_reply": "2023-02-01T03:04:26.706693Z"
    },
    "papermill": {
     "duration": 0.034843,
     "end_time": "2023-02-01T03:04:26.711438",
     "exception": false,
     "start_time": "2023-02-01T03:04:26.676595",
     "status": "completed"
    },
    "tags": []
   },
   "outputs": [
    {
     "name": "stdout",
     "output_type": "stream",
     "text": [
      "Total number of rows with null values 2975\n",
      "since missing values is 60 % of the entire dataset, dropping the rows containing null values is too extreme.\n"
     ]
    }
   ],
   "source": [
    "count=0\n",
    "for i in df.isnull().sum(axis=1):\n",
    "    if i>0:\n",
    "        count=count+1\n",
    "print('Total number of rows with null values', count)\n",
    "print('since missing values is',round((count/len(df.index))*100),'% of the entire dataset, dropping the rows containing null values is too extreme.')"
   ]
  },
  {
   "cell_type": "code",
   "execution_count": 20,
   "id": "7b71d8c5",
   "metadata": {
    "execution": {
     "iopub.execute_input": "2023-02-01T03:04:26.751880Z",
     "iopub.status.busy": "2023-02-01T03:04:26.751444Z",
     "iopub.status.idle": "2023-02-01T03:04:26.758317Z",
     "shell.execute_reply": "2023-02-01T03:04:26.757084Z"
    },
    "papermill": {
     "duration": 0.029735,
     "end_time": "2023-02-01T03:04:26.760693",
     "exception": false,
     "start_time": "2023-02-01T03:04:26.730958",
     "status": "completed"
    },
    "tags": []
   },
   "outputs": [
    {
     "name": "stdout",
     "output_type": "stream",
     "text": [
      "Dataset contains 0 infinite values.\n"
     ]
    }
   ],
   "source": [
    "count = np.isinf(df).values.sum()\n",
    "print('Dataset contains ' + str(count) + ' infinite values.') #Not having to worry about infinite values"
   ]
  },
  {
   "cell_type": "markdown",
   "id": "140d8cd7",
   "metadata": {
    "papermill": {
     "duration": 0.019399,
     "end_time": "2023-02-01T03:04:26.799641",
     "exception": false,
     "start_time": "2023-02-01T03:04:26.780242",
     "status": "completed"
    },
    "tags": []
   },
   "source": [
    "Null values can be either removed by rows or columns at certain thresholds OR filled with an outlier(-999), median, or mean. Filling in certain values will affect the distribution and may affect model accuracy."
   ]
  },
  {
   "cell_type": "code",
   "execution_count": 21,
   "id": "4420148b",
   "metadata": {
    "execution": {
     "iopub.execute_input": "2023-02-01T03:04:26.840851Z",
     "iopub.status.busy": "2023-02-01T03:04:26.840223Z",
     "iopub.status.idle": "2023-02-01T03:04:26.851867Z",
     "shell.execute_reply": "2023-02-01T03:04:26.850697Z"
    },
    "papermill": {
     "duration": 0.035026,
     "end_time": "2023-02-01T03:04:26.854322",
     "exception": false,
     "start_time": "2023-02-01T03:04:26.819296",
     "status": "completed"
    },
    "tags": []
   },
   "outputs": [
    {
     "data": {
      "text/plain": [
       "MSCODE      36.250751\n",
       "NUMADULT    35.189265\n",
       "HLTHCVR1    33.647106\n",
       "DRVISITS    28.680152\n",
       "_BMI5CAT     6.348888\n",
       "FLUSHOT6     4.766673\n",
       "DECIDE       3.424795\n",
       "BLIND        3.404767\n",
       "USEEQUIP     3.264570\n",
       "RENTHOM1     2.042860\n",
       "WEIGHT2      1.001402\n",
       "INCOME2      0.761065\n",
       "EMPLOY1      0.380533\n",
       "CHILDREN     0.240336\n",
       "MARITAL      0.200280\n",
       "_RACE        0.060084\n",
       "CHECKUP1     0.000000\n",
       "SEX          0.000000\n",
       "_SMOKER3     0.000000\n",
       "MENTHLTH     0.000000\n",
       "SLEPTIM1     0.000000\n",
       "_EDUCAG      0.000000\n",
       "_TOTINDA     0.000000\n",
       "ADDEPEV2     0.000000\n",
       "_AGEG5YR     0.000000\n",
       "GENHLTH      0.000000\n",
       "ASTHMA3      0.000000\n",
       "_STATE       0.000000\n",
       "HLTHPLN1     0.000000\n",
       "CVDCRHD4     0.000000\n",
       "EXERANY2     0.000000\n",
       "CHCKIDNY     0.000000\n",
       "DIABETE3     0.000000\n",
       "dtype: float64"
      ]
     },
     "execution_count": 21,
     "metadata": {},
     "output_type": "execute_result"
    }
   ],
   "source": [
    "df.isnull().sum().sort_values(ascending = False)/len(df) * 100"
   ]
  },
  {
   "cell_type": "markdown",
   "id": "35a6ba90",
   "metadata": {
    "papermill": {
     "duration": 0.018838,
     "end_time": "2023-02-01T03:04:26.892644",
     "exception": false,
     "start_time": "2023-02-01T03:04:26.873806",
     "status": "completed"
    },
    "tags": []
   },
   "source": [
    "Since there are up to 30% of null values for some columns, removing these columns will reduce the inaccuracies and inconsistencies in the data. In addition, the variables in these columns are perceived as not main factors contributing to diabetes risk based on known factors cited by CDC. For example, having healthcare coverage('HLTHCVR1') and being blind are not often research cited risk factors of diabetes with strong correlations. Thus, the prcess is to remove null value containing columns instead of filling-in these columns."
   ]
  },
  {
   "cell_type": "code",
   "execution_count": 22,
   "id": "30240bb8",
   "metadata": {
    "execution": {
     "iopub.execute_input": "2023-02-01T03:04:26.932992Z",
     "iopub.status.busy": "2023-02-01T03:04:26.932514Z",
     "iopub.status.idle": "2023-02-01T03:04:26.940860Z",
     "shell.execute_reply": "2023-02-01T03:04:26.939581Z"
    },
    "papermill": {
     "duration": 0.031542,
     "end_time": "2023-02-01T03:04:26.943342",
     "exception": false,
     "start_time": "2023-02-01T03:04:26.911800",
     "status": "completed"
    },
    "tags": []
   },
   "outputs": [],
   "source": [
    "df_var = df.dropna(axis = 1) #Remove columns with any null values present"
   ]
  },
  {
   "cell_type": "code",
   "execution_count": 23,
   "id": "ed15119a",
   "metadata": {
    "execution": {
     "iopub.execute_input": "2023-02-01T03:04:26.983644Z",
     "iopub.status.busy": "2023-02-01T03:04:26.983194Z",
     "iopub.status.idle": "2023-02-01T03:04:26.994954Z",
     "shell.execute_reply": "2023-02-01T03:04:26.993992Z"
    },
    "papermill": {
     "duration": 0.034781,
     "end_time": "2023-02-01T03:04:26.997288",
     "exception": false,
     "start_time": "2023-02-01T03:04:26.962507",
     "status": "completed"
    },
    "tags": []
   },
   "outputs": [
    {
     "data": {
      "text/plain": [
       "DIABETE3    0.0\n",
       "ASTHMA3     0.0\n",
       "MENTHLTH    0.0\n",
       "SLEPTIM1    0.0\n",
       "_EDUCAG     0.0\n",
       "CHECKUP1    0.0\n",
       "_AGEG5YR    0.0\n",
       "GENHLTH     0.0\n",
       "_STATE      0.0\n",
       "SEX         0.0\n",
       "HLTHPLN1    0.0\n",
       "EXERANY2    0.0\n",
       "ADDEPEV2    0.0\n",
       "_TOTINDA    0.0\n",
       "CHCKIDNY    0.0\n",
       "CVDCRHD4    0.0\n",
       "_SMOKER3    0.0\n",
       "dtype: float64"
      ]
     },
     "execution_count": 23,
     "metadata": {},
     "output_type": "execute_result"
    }
   ],
   "source": [
    "df_var.isnull().sum().sort_values(ascending = False)/len(df) #Verify no more null values"
   ]
  },
  {
   "cell_type": "markdown",
   "id": "d10a9667",
   "metadata": {
    "papermill": {
     "duration": 0.018995,
     "end_time": "2023-02-01T03:04:27.035687",
     "exception": false,
     "start_time": "2023-02-01T03:04:27.016692",
     "status": "completed"
    },
    "tags": []
   },
   "source": [
    "### Selecting and Normalizing Independent Variables\n",
    "Using Pearson's correlation test to determine which of the 32 independent variables has a statistically significant correlation with diabetes. \n",
    "\n",
    "* Null hypothesis(H0): There is not a significant linear correlation between the independent variable and dependent variable(Diabetes) in the dataset. \n",
    "\n",
    "* Alternative hypothesis(HA): There is a significant linear correlation between the independent variable and dependent variable(Diabetes) in the dataset. \n",
    "\n",
    "A p-value >= alpha(0.05) means that the null hypothesis is accepted; there is **not** a statistically significant linear correlation between the independent variable and diabetes in the dataset. \n",
    "\n",
    "A p-value < alpha(0.05) means that the null hypothesis is rejected; there is a statistically significant correlation between the independent variable and diabetes in the dataset. "
   ]
  },
  {
   "cell_type": "code",
   "execution_count": 24,
   "id": "9f6f8585",
   "metadata": {
    "execution": {
     "iopub.execute_input": "2023-02-01T03:04:27.075984Z",
     "iopub.status.busy": "2023-02-01T03:04:27.075542Z",
     "iopub.status.idle": "2023-02-01T03:04:27.090692Z",
     "shell.execute_reply": "2023-02-01T03:04:27.089420Z"
    },
    "papermill": {
     "duration": 0.038353,
     "end_time": "2023-02-01T03:04:27.093201",
     "exception": false,
     "start_time": "2023-02-01T03:04:27.054848",
     "status": "completed"
    },
    "tags": []
   },
   "outputs": [
    {
     "name": "stdout",
     "output_type": "stream",
     "text": [
      "DIABETE3    r: 1.0    p: 0.0\n",
      "SEX    Null hypothesis rejected - Not significant\n",
      "CVDCRHD4    r: -0.0465    p: 0.0010108\n",
      "CHCKIDNY    Null hypothesis rejected - Not significant\n",
      "_TOTINDA    r: 0.0942    p: 0.0\n",
      "ADDEPEV2    r: -0.0657    p: 3.42e-06\n",
      "EXERANY2    r: 0.1008    p: 0.0\n",
      "HLTHPLN1    Null hypothesis rejected - Not significant\n",
      "_STATE    Null hypothesis rejected - Not significant\n",
      "ASTHMA3    r: -0.0341    p: 0.01603162\n",
      "GENHLTH    r: 0.2736    p: 0.0\n",
      "_AGEG5YR    r: 0.1978    p: 0.0\n",
      "CHECKUP1    r: -0.087    p: 0.0\n",
      "_EDUCAG    r: -0.0695    p: 9e-07\n",
      "SLEPTIM1    Null hypothesis rejected - Not significant\n",
      "MENTHLTH    Null hypothesis rejected - Not significant\n",
      "_SMOKER3    Null hypothesis rejected - Not significant\n"
     ]
    }
   ],
   "source": [
    "#Loop generates correlation and p-value between dependent variable diabetes and all other variables. \n",
    "indep_var = []\n",
    "for column in df_var.columns[0:]:\n",
    "    r, p = st.pearsonr(df_var[column], df_var['DIABETE3'])\n",
    "    if p <= 0.05:\n",
    "        indep_var.append(column)\n",
    "        print(column, '  ', 'r:', round(r, 4), '  ', 'p:', round(p, 8))\n",
    "    else:\n",
    "        print(column, '  ',\"Null hypothesis rejected - Not significant\")"
   ]
  },
  {
   "cell_type": "code",
   "execution_count": 25,
   "id": "f5901e9d",
   "metadata": {
    "execution": {
     "iopub.execute_input": "2023-02-01T03:04:27.133807Z",
     "iopub.status.busy": "2023-02-01T03:04:27.133354Z",
     "iopub.status.idle": "2023-02-01T03:04:27.140593Z",
     "shell.execute_reply": "2023-02-01T03:04:27.139460Z"
    },
    "papermill": {
     "duration": 0.030312,
     "end_time": "2023-02-01T03:04:27.142874",
     "exception": false,
     "start_time": "2023-02-01T03:04:27.112562",
     "status": "completed"
    },
    "tags": []
   },
   "outputs": [
    {
     "data": {
      "text/plain": [
       "['DIABETE3',\n",
       " 'CVDCRHD4',\n",
       " '_TOTINDA',\n",
       " 'ADDEPEV2',\n",
       " 'EXERANY2',\n",
       " 'ASTHMA3',\n",
       " 'GENHLTH',\n",
       " '_AGEG5YR',\n",
       " 'CHECKUP1',\n",
       " '_EDUCAG']"
      ]
     },
     "execution_count": 25,
     "metadata": {},
     "output_type": "execute_result"
    }
   ],
   "source": [
    "indep_var #List of statistically significant variables"
   ]
  },
  {
   "cell_type": "markdown",
   "id": "5798c587",
   "metadata": {
    "papermill": {
     "duration": 0.019399,
     "end_time": "2023-02-01T03:04:27.181228",
     "exception": false,
     "start_time": "2023-02-01T03:04:27.161829",
     "status": "completed"
    },
    "tags": []
   },
   "source": [
    "Although none of these variables have a high correlation magnitude above 0.30, Pearson's correlation test provided a narrower list of statistically significant independent variables in that the null hypothesis is rejected since p-value < alpha(0.05). These variables([indep_var] will be further analyzed for distributions and utilized to build a predictive model."
   ]
  },
  {
   "cell_type": "markdown",
   "id": "27c0950b",
   "metadata": {
    "papermill": {
     "duration": 0.018575,
     "end_time": "2023-02-01T03:04:27.219017",
     "exception": false,
     "start_time": "2023-02-01T03:04:27.200442",
     "status": "completed"
    },
    "tags": []
   },
   "source": [
    "#### Normalize"
   ]
  },
  {
   "cell_type": "markdown",
   "id": "a0f459cb",
   "metadata": {
    "papermill": {
     "duration": 0.0189,
     "end_time": "2023-02-01T03:04:27.257191",
     "exception": false,
     "start_time": "2023-02-01T03:04:27.238291",
     "status": "completed"
    },
    "tags": []
   },
   "source": [
    "Similar to the diabetes dependent variable, some independent variables will be normalized to bring most of the variables into the same range of [0, 1]. \n",
    "\n",
    "Only variables that can be reclassified into two categories: \"Yes/Have\" = 1, \"No/Does not have\" = 0 will be normalized. Codebook shows that 7 means \"Don't Know\" and 9 means \"Refused to answer\". 7 and 9 responses are often below 1% of the weighted percentage for surveyed response frequency, so they may be normalized as \"No\" which may introduce a small amount of inaccuracy when building a model but still is better than turning them into null values and removing more data. "
   ]
  },
  {
   "cell_type": "code",
   "execution_count": 26,
   "id": "d2def1f7",
   "metadata": {
    "execution": {
     "iopub.execute_input": "2023-02-01T03:04:27.299465Z",
     "iopub.status.busy": "2023-02-01T03:04:27.298540Z",
     "iopub.status.idle": "2023-02-01T03:04:27.317107Z",
     "shell.execute_reply": "2023-02-01T03:04:27.316113Z"
    },
    "papermill": {
     "duration": 0.043488,
     "end_time": "2023-02-01T03:04:27.319896",
     "exception": false,
     "start_time": "2023-02-01T03:04:27.276408",
     "status": "completed"
    },
    "tags": []
   },
   "outputs": [],
   "source": [
    "df_var['CVDCRHD4'] = df['CVDCRHD4'].map({1:1, 2:0,7:0,9:0}) \n",
    "df_var['CVDCRHD4'] = df['CVDCRHD4'].map({1:1, 2:0,7:0,9:0}) \n",
    "df_var['_TOTINDA'] = df['_TOTINDA'].map({1:1, 2:0,7:0,9:0})  \n",
    "df_var['ADDEPEV2'] = df['ADDEPEV2'].map({1:1, 2:0,7:0,9:0}) \n",
    "df_var['EXERANY2'] = df['EXERANY2'].map({1:1, 2:0,7:0,9:0}) \n",
    "df_var['ASTHMA3'] = df['ASTHMA3'].map({1:1, 2:0,7:0,9:0}) \n",
    "df_var = df_var.astype('int') #All non-null values in df is turned into integers"
   ]
  },
  {
   "cell_type": "markdown",
   "id": "9c491fa2",
   "metadata": {
    "papermill": {
     "duration": 0.01961,
     "end_time": "2023-02-01T03:04:27.358911",
     "exception": false,
     "start_time": "2023-02-01T03:04:27.339301",
     "status": "completed"
    },
    "tags": []
   },
   "source": [
    "## Explanatory Analysis"
   ]
  },
  {
   "cell_type": "markdown",
   "id": "70bd252b",
   "metadata": {
    "papermill": {
     "duration": 0.02031,
     "end_time": "2023-02-01T03:04:27.399143",
     "exception": false,
     "start_time": "2023-02-01T03:04:27.378833",
     "status": "completed"
    },
    "tags": []
   },
   "source": [
    "#### Dependent Variable"
   ]
  },
  {
   "cell_type": "code",
   "execution_count": 27,
   "id": "124a4f41",
   "metadata": {
    "execution": {
     "iopub.execute_input": "2023-02-01T03:04:27.440875Z",
     "iopub.status.busy": "2023-02-01T03:04:27.440103Z",
     "iopub.status.idle": "2023-02-01T03:04:27.449388Z",
     "shell.execute_reply": "2023-02-01T03:04:27.448174Z"
    },
    "papermill": {
     "duration": 0.033075,
     "end_time": "2023-02-01T03:04:27.451814",
     "exception": false,
     "start_time": "2023-02-01T03:04:27.418739",
     "status": "completed"
    },
    "tags": []
   },
   "outputs": [
    {
     "data": {
      "text/plain": [
       "0.0    4327\n",
       "1.0     666\n",
       "Name: DIABETE3, dtype: int64"
      ]
     },
     "execution_count": 27,
     "metadata": {},
     "output_type": "execute_result"
    }
   ],
   "source": [
    "df['DIABETE3'].value_counts()"
   ]
  },
  {
   "cell_type": "code",
   "execution_count": 28,
   "id": "8e8d5b57",
   "metadata": {
    "execution": {
     "iopub.execute_input": "2023-02-01T03:04:27.498431Z",
     "iopub.status.busy": "2023-02-01T03:04:27.497624Z",
     "iopub.status.idle": "2023-02-01T03:04:27.661871Z",
     "shell.execute_reply": "2023-02-01T03:04:27.660249Z"
    },
    "papermill": {
     "duration": 0.193165,
     "end_time": "2023-02-01T03:04:27.665099",
     "exception": false,
     "start_time": "2023-02-01T03:04:27.471934",
     "status": "completed"
    },
    "tags": []
   },
   "outputs": [
    {
     "data": {
      "image/png": "[encoded data removed]",
      "text/plain": [
       "<Figure size 432x288 with 1 Axes>"
      ]
     },
     "metadata": {
      "needs_background": "light"
     },
     "output_type": "display_data"
    }
   ],
   "source": [
    "count_diabetes = sns.countplot(x='DIABETE3',data=df, palette = 'husl')\n",
    "count_diabetes.set(xlabel='Diabetes', ylabel='Frequency')\n",
    "plt.title('Distribution of Diabetes Risk')\n",
    "plt.show()"
   ]
  },
  {
   "cell_type": "markdown",
   "id": "8fdf072c",
   "metadata": {
    "papermill": {
     "duration": 0.0216,
     "end_time": "2023-02-01T03:04:27.707367",
     "exception": false,
     "start_time": "2023-02-01T03:04:27.685767",
     "status": "completed"
    },
    "tags": []
   },
   "source": [
    "4327 individuals had reported no diabetes risk and 666 individuals reported being diabetics."
   ]
  },
  {
   "cell_type": "markdown",
   "id": "48effea7",
   "metadata": {
    "papermill": {
     "duration": 0.019143,
     "end_time": "2023-02-01T03:04:27.746391",
     "exception": false,
     "start_time": "2023-02-01T03:04:27.727248",
     "status": "completed"
    },
    "tags": []
   },
   "source": [
    "#### Independent Variable"
   ]
  },
  {
   "cell_type": "code",
   "execution_count": 29,
   "id": "07c3f31c",
   "metadata": {
    "execution": {
     "iopub.execute_input": "2023-02-01T03:04:27.788225Z",
     "iopub.status.busy": "2023-02-01T03:04:27.787419Z",
     "iopub.status.idle": "2023-02-01T03:04:28.019583Z",
     "shell.execute_reply": "2023-02-01T03:04:28.018421Z"
    },
    "papermill": {
     "duration": 0.255705,
     "end_time": "2023-02-01T03:04:28.021764",
     "exception": false,
     "start_time": "2023-02-01T03:04:27.766059",
     "status": "completed"
    },
    "tags": []
   },
   "outputs": [
    {
     "data": {
      "image/png": "[encoded data removed]",
      "text/plain": [
       "<Figure size 720x432 with 1 Axes>"
      ]
     },
     "metadata": {
      "needs_background": "light"
     },
     "output_type": "display_data"
    }
   ],
   "source": [
    "plt.figure(figsize = (10,6))\n",
    "ax = sns.countplot(x='CVDCRHD4', data=df_var, hue='DIABETE3', palette = 'rocket')\n",
    "ax.set(xlabel='Yes/No Coronary Heart Disease', ylabel='Frequency')\n",
    "plt.legend(['No Diabetes Risk','Diabetic'])\n",
    "plt.title('Distribution of Cases with Diabetes Risk by Coronary Heart Disease')\n",
    "plt.show()"
   ]
  },
  {
   "cell_type": "markdown",
   "id": "99222ef3",
   "metadata": {
    "papermill": {
     "duration": 0.019748,
     "end_time": "2023-02-01T03:04:28.062088",
     "exception": false,
     "start_time": "2023-02-01T03:04:28.042340",
     "status": "completed"
    },
    "tags": []
   },
   "source": [
    "Coronary heart disease had a statistically significant negative correlation with diabetes in the dataset. This figure describes that most cases of diabetes also do not have angina or coronary heart disease."
   ]
  },
  {
   "cell_type": "code",
   "execution_count": 30,
   "id": "41e5e744",
   "metadata": {
    "execution": {
     "iopub.execute_input": "2023-02-01T03:04:28.104466Z",
     "iopub.status.busy": "2023-02-01T03:04:28.103955Z",
     "iopub.status.idle": "2023-02-01T03:04:28.332621Z",
     "shell.execute_reply": "2023-02-01T03:04:28.331663Z"
    },
    "papermill": {
     "duration": 0.25268,
     "end_time": "2023-02-01T03:04:28.334935",
     "exception": false,
     "start_time": "2023-02-01T03:04:28.082255",
     "status": "completed"
    },
    "tags": []
   },
   "outputs": [
    {
     "data": {
      "image/png": "[encoded data removed]",
      "text/plain": [
       "<Figure size 720x432 with 1 Axes>"
      ]
     },
     "metadata": {
      "needs_background": "light"
     },
     "output_type": "display_data"
    }
   ],
   "source": [
    "plt.figure(figsize = (10,6))\n",
    "ax = sns.countplot(x='_TOTINDA', data=df_var, hue='DIABETE3', palette = 'rocket')\n",
    "ax.set(xlabel='Yes/No Exerise/Activity Outside of Work', ylabel='Frequency')\n",
    "plt.legend(['No Diabetes Risk','Diabetic'])\n",
    "plt.title('Distribution of Cases with Diabetes Risk by Exerise/Activity Outside of Work')\n",
    "plt.show()"
   ]
  },
  {
   "cell_type": "markdown",
   "id": "0b07eee3",
   "metadata": {
    "papermill": {
     "duration": 0.02046,
     "end_time": "2023-02-01T03:04:28.376061",
     "exception": false,
     "start_time": "2023-02-01T03:04:28.355601",
     "status": "completed"
    },
    "tags": []
   },
   "source": [
    "Although it is often perceived that increased physical activity reduces diabetes risk, there is a statistically significant positive correlation between physical activity outside of work and diabetes. \n",
    "The figure describes that slightly more diabetic surveyors reported having exercise/activity outside of work."
   ]
  },
  {
   "cell_type": "code",
   "execution_count": 31,
   "id": "ee1e2f24",
   "metadata": {
    "execution": {
     "iopub.execute_input": "2023-02-01T03:04:28.419423Z",
     "iopub.status.busy": "2023-02-01T03:04:28.418939Z",
     "iopub.status.idle": "2023-02-01T03:04:28.646070Z",
     "shell.execute_reply": "2023-02-01T03:04:28.644764Z"
    },
    "papermill": {
     "duration": 0.252105,
     "end_time": "2023-02-01T03:04:28.648849",
     "exception": false,
     "start_time": "2023-02-01T03:04:28.396744",
     "status": "completed"
    },
    "tags": []
   },
   "outputs": [
    {
     "data": {
      "image/png": "[encoded data removed]",
      "text/plain": [
       "<Figure size 720x432 with 1 Axes>"
      ]
     },
     "metadata": {
      "needs_background": "light"
     },
     "output_type": "display_data"
    }
   ],
   "source": [
    "plt.figure(figsize = (10,6))\n",
    "ax = sns.countplot(x='ADDEPEV2', data=df_var, hue='DIABETE3', palette = 'rocket')\n",
    "ax.set(xlabel='Yes/No Depressive Disorder', ylabel='Frequency')\n",
    "plt.legend(['No Diabetes Risk','Diabetic'])\n",
    "plt.title('Distribution of Cases with Diabetes Risk by Depressive Disorder')\n",
    "plt.show()"
   ]
  },
  {
   "cell_type": "markdown",
   "id": "3a30cc3c",
   "metadata": {
    "papermill": {
     "duration": 0.020644,
     "end_time": "2023-02-01T03:04:28.690927",
     "exception": false,
     "start_time": "2023-02-01T03:04:28.670283",
     "status": "completed"
    },
    "tags": []
   },
   "source": [
    "There is a statistically significant negative correlation between having depressive disorder and diabetes. The figure shows that most cases of diabetes do not have a diagnosed depressive disorder."
   ]
  },
  {
   "cell_type": "code",
   "execution_count": 32,
   "id": "ad52fd42",
   "metadata": {
    "execution": {
     "iopub.execute_input": "2023-02-01T03:04:28.735391Z",
     "iopub.status.busy": "2023-02-01T03:04:28.734911Z",
     "iopub.status.idle": "2023-02-01T03:04:28.961447Z",
     "shell.execute_reply": "2023-02-01T03:04:28.960297Z"
    },
    "papermill": {
     "duration": 0.251835,
     "end_time": "2023-02-01T03:04:28.963905",
     "exception": false,
     "start_time": "2023-02-01T03:04:28.712070",
     "status": "completed"
    },
    "tags": []
   },
   "outputs": [
    {
     "data": {
      "image/png": "[encoded data removed]",
      "text/plain": [
       "<Figure size 720x432 with 1 Axes>"
      ]
     },
     "metadata": {
      "needs_background": "light"
     },
     "output_type": "display_data"
    }
   ],
   "source": [
    "plt.figure(figsize = (10,6))\n",
    "ax = sns.countplot(x='EXERANY2', data=df_var, hue='DIABETE3', palette = 'rocket')\n",
    "ax.set(xlabel='Yes/No Active at Work', ylabel='Frequency')\n",
    "plt.legend(['No Diabetes Risk','Diabetic'])\n",
    "plt.title('Distribution of Cases with Diabetes Risk by Activity at Work')\n",
    "plt.show()"
   ]
  },
  {
   "cell_type": "markdown",
   "id": "bc774916",
   "metadata": {
    "papermill": {
     "duration": 0.024254,
     "end_time": "2023-02-01T03:04:29.010111",
     "exception": false,
     "start_time": "2023-02-01T03:04:28.985857",
     "status": "completed"
    },
    "tags": []
   },
   "source": [
    "There is a statistically significant positive correlation between activity at work and diabetes. Interestingly, those having more activity at work have a greater rate of diabetes risk. This could be linked to food choices available at work generally, such as nearby fast food or vending machine snacks to quickly satiate hunger and then return to work."
   ]
  },
  {
   "cell_type": "code",
   "execution_count": 33,
   "id": "8957721c",
   "metadata": {
    "execution": {
     "iopub.execute_input": "2023-02-01T03:04:29.058466Z",
     "iopub.status.busy": "2023-02-01T03:04:29.057637Z",
     "iopub.status.idle": "2023-02-01T03:04:29.281353Z",
     "shell.execute_reply": "2023-02-01T03:04:29.280240Z"
    },
    "papermill": {
     "duration": 0.250644,
     "end_time": "2023-02-01T03:04:29.284237",
     "exception": false,
     "start_time": "2023-02-01T03:04:29.033593",
     "status": "completed"
    },
    "tags": []
   },
   "outputs": [
    {
     "data": {
      "image/png": "[encoded data removed]",
      "text/plain": [
       "<Figure size 720x432 with 1 Axes>"
      ]
     },
     "metadata": {
      "needs_background": "light"
     },
     "output_type": "display_data"
    }
   ],
   "source": [
    "plt.figure(figsize = (10,6))\n",
    "ax = sns.countplot(x='ASTHMA3', data=df_var, hue='DIABETE3', palette = 'rocket')\n",
    "ax.set(xlabel='Yes/No Asthma', ylabel='Frequency')\n",
    "plt.legend(['No Diabetes Risk','Diabetic'])\n",
    "plt.title('Distribution of Cases with Diabetes Risk by Asthma Risk')\n",
    "plt.show()"
   ]
  },
  {
   "cell_type": "markdown",
   "id": "5d9a097b",
   "metadata": {
    "papermill": {
     "duration": 0.02075,
     "end_time": "2023-02-01T03:04:29.327381",
     "exception": false,
     "start_time": "2023-02-01T03:04:29.306631",
     "status": "completed"
    },
    "tags": []
   },
   "source": [
    "There is a statistically significant negative correlation between having asthma and diabetes. The figure describes that most diabetic individuals do not have asthma. \n",
    "Asthma risks have the weakest correlation magnitude among the selected independent variables."
   ]
  },
  {
   "cell_type": "code",
   "execution_count": 34,
   "id": "25e2de2f",
   "metadata": {
    "execution": {
     "iopub.execute_input": "2023-02-01T03:04:29.373154Z",
     "iopub.status.busy": "2023-02-01T03:04:29.372682Z",
     "iopub.status.idle": "2023-02-01T03:04:29.658455Z",
     "shell.execute_reply": "2023-02-01T03:04:29.657241Z"
    },
    "papermill": {
     "duration": 0.311959,
     "end_time": "2023-02-01T03:04:29.661286",
     "exception": false,
     "start_time": "2023-02-01T03:04:29.349327",
     "status": "completed"
    },
    "tags": []
   },
   "outputs": [
    {
     "data": {
      "image/png": "[encoded data removed]",
      "text/plain": [
       "<Figure size 720x432 with 1 Axes>"
      ]
     },
     "metadata": {
      "needs_background": "light"
     },
     "output_type": "display_data"
    }
   ],
   "source": [
    "plt.figure(figsize = (10,6))\n",
    "ax = sns.countplot(x = df_var['GENHLTH'], hue = 'DIABETE3', data = df_var, palette = 'rocket')\n",
    "ax.set(xlabel = 'General Health', ylabel = 'Frequency')\n",
    "plt.legend(['No Diabetes Risk','Diabetic'])\n",
    "plt.title('Distribution of Cases with Diabetes by General Health')\n",
    "plt.show()"
   ]
  },
  {
   "cell_type": "markdown",
   "id": "2d384052",
   "metadata": {
    "papermill": {
     "duration": 0.021407,
     "end_time": "2023-02-01T03:04:29.704938",
     "exception": false,
     "start_time": "2023-02-01T03:04:29.683531",
     "status": "completed"
    },
    "tags": []
   },
   "source": [
    "The scale for general health is Excellent(1), Very Good(2), Good(3), Fair(4), Poor(5). There is a statistically significant positive correlation between general health responses and diabetes. \n",
    "This figure describes that individuals reporting \"Good\"(3) and \"Fair\"(4) general health have the highest distribution of diabetes. "
   ]
  },
  {
   "cell_type": "code",
   "execution_count": 35,
   "id": "e8dd2cd6",
   "metadata": {
    "execution": {
     "iopub.execute_input": "2023-02-01T03:04:29.751072Z",
     "iopub.status.busy": "2023-02-01T03:04:29.750338Z",
     "iopub.status.idle": "2023-02-01T03:04:30.078175Z",
     "shell.execute_reply": "2023-02-01T03:04:30.076875Z"
    },
    "papermill": {
     "duration": 0.354023,
     "end_time": "2023-02-01T03:04:30.080714",
     "exception": false,
     "start_time": "2023-02-01T03:04:29.726691",
     "status": "completed"
    },
    "tags": []
   },
   "outputs": [
    {
     "data": {
      "image/png": "[encoded data removed]",
      "text/plain": [
       "<Figure size 936x432 with 1 Axes>"
      ]
     },
     "metadata": {
      "needs_background": "light"
     },
     "output_type": "display_data"
    }
   ],
   "source": [
    "plt.figure(figsize = (13,6))\n",
    "ax = sns.countplot(x = df_var['_AGEG5YR'], hue = 'DIABETE3', data = df_var, palette = 'rocket')\n",
    "ax.set(xlabel = 'Age Group', ylabel = 'Frequency')\n",
    "plt.legend(['No Diabetes Risk','Diabetic'])\n",
    "plt.title('Distribution of Cases with Diabetes by Age Group')\n",
    "plt.show()"
   ]
  },
  {
   "cell_type": "markdown",
   "id": "145c801a",
   "metadata": {
    "papermill": {
     "duration": 0.021712,
     "end_time": "2023-02-01T03:04:30.124335",
     "exception": false,
     "start_time": "2023-02-01T03:04:30.102623",
     "status": "completed"
    },
    "tags": []
   },
   "source": [
    "There is a statistically significant positive correlation between age groups and diabetes risk. The figure shows that individuals who are 60 years old(age group 9) or older(group 9+) are more likely to be diabetic."
   ]
  },
  {
   "cell_type": "code",
   "execution_count": 36,
   "id": "20afe89c",
   "metadata": {
    "execution": {
     "iopub.execute_input": "2023-02-01T03:04:30.170563Z",
     "iopub.status.busy": "2023-02-01T03:04:30.169805Z",
     "iopub.status.idle": "2023-02-01T03:04:30.446659Z",
     "shell.execute_reply": "2023-02-01T03:04:30.445245Z"
    },
    "papermill": {
     "duration": 0.30299,
     "end_time": "2023-02-01T03:04:30.449228",
     "exception": false,
     "start_time": "2023-02-01T03:04:30.146238",
     "status": "completed"
    },
    "tags": []
   },
   "outputs": [
    {
     "data": {
      "image/png": "[encoded data removed]",
      "text/plain": [
       "<Figure size 936x432 with 1 Axes>"
      ]
     },
     "metadata": {
      "needs_background": "light"
     },
     "output_type": "display_data"
    }
   ],
   "source": [
    "plt.figure(figsize = (13,6))\n",
    "ax = sns.countplot(x = df_var['CHECKUP1'], hue = 'DIABETE3', data = df_var, palette = 'rocket')\n",
    "ax.set(xlabel ='Time Since Last Checkup', ylabel = 'Frequency')\n",
    "plt.legend(['No Diabetes Risk','Diabetic'])\n",
    "plt.title('Distribution of Cases with Diabetes by Last Recent Checkup')\n",
    "plt.show()"
   ]
  },
  {
   "cell_type": "markdown",
   "id": "5f284c31",
   "metadata": {
    "papermill": {
     "duration": 0.022787,
     "end_time": "2023-02-01T03:04:30.494701",
     "exception": false,
     "start_time": "2023-02-01T03:04:30.471914",
     "status": "completed"
    },
    "tags": []
   },
   "source": [
    "Scale: 1(Within past year), 2(Within past 2 years), 3(Within past 5 years), 4(5 or more years). There is a statistically significant negative correlation between recent health checkups and diabetes. People with the most recent checkups have a greater distribution of being diabetic; \n",
    "however, the distribution is left-skewed. This bias could be due to individuals seldom visiting their doctors in the past 2 years, therefore having a lower likelihood of receiving a diagnosis for diabetes."
   ]
  },
  {
   "cell_type": "code",
   "execution_count": 37,
   "id": "500fd2b8",
   "metadata": {
    "execution": {
     "iopub.execute_input": "2023-02-01T03:04:30.542653Z",
     "iopub.status.busy": "2023-02-01T03:04:30.541791Z",
     "iopub.status.idle": "2023-02-01T03:04:30.807495Z",
     "shell.execute_reply": "2023-02-01T03:04:30.806139Z"
    },
    "papermill": {
     "duration": 0.292784,
     "end_time": "2023-02-01T03:04:30.810124",
     "exception": false,
     "start_time": "2023-02-01T03:04:30.517340",
     "status": "completed"
    },
    "tags": []
   },
   "outputs": [
    {
     "data": {
      "image/png": "[encoded data removed]",
      "text/plain": [
       "<Figure size 936x432 with 1 Axes>"
      ]
     },
     "metadata": {
      "needs_background": "light"
     },
     "output_type": "display_data"
    }
   ],
   "source": [
    "plt.figure(figsize = (13,6))\n",
    "ax = sns.countplot(x = df_var['_EDUCAG'], hue = 'DIABETE3', data = df_var, palette = 'rocket')\n",
    "ax.set(xlabel = 'Education Level', ylabel = 'Frequency')\n",
    "plt.legend(['No Diabetes Risk','Diabetic'])\n",
    "plt.title('Distribution of Cases with Diabetes by Education')\n",
    "plt.show()"
   ]
  },
  {
   "cell_type": "markdown",
   "id": "6585ddab",
   "metadata": {
    "papermill": {
     "duration": 0.02254,
     "end_time": "2023-02-01T03:04:30.855579",
     "exception": false,
     "start_time": "2023-02-01T03:04:30.833039",
     "status": "completed"
    },
    "tags": []
   },
   "source": [
    "Scale: 1(Did not graduate High School), 2(Graduates High School), 3(Attended College/Technical school), 4(Graduated College/Technical school). There is a statistically significant negative correlation between education levels and diabetes risk."
   ]
  },
  {
   "cell_type": "markdown",
   "id": "681901bb",
   "metadata": {
    "papermill": {
     "duration": 0.022315,
     "end_time": "2023-02-01T03:04:30.900704",
     "exception": false,
     "start_time": "2023-02-01T03:04:30.878389",
     "status": "completed"
    },
    "tags": []
   },
   "source": [
    "# Attempting to not have train-test contamination - data leakage"
   ]
  },
  {
   "cell_type": "markdown",
   "id": "260a9f75",
   "metadata": {
    "papermill": {
     "duration": 0.022881,
     "end_time": "2023-02-01T03:04:30.946013",
     "exception": false,
     "start_time": "2023-02-01T03:04:30.923132",
     "status": "completed"
    },
    "tags": []
   },
   "source": [
    "Need to call test-train split before imputing. "
   ]
  },
  {
   "cell_type": "code",
   "execution_count": 38,
   "id": "de511e03",
   "metadata": {
    "execution": {
     "iopub.execute_input": "2023-02-01T03:04:30.994042Z",
     "iopub.status.busy": "2023-02-01T03:04:30.993319Z",
     "iopub.status.idle": "2023-02-01T03:04:30.999896Z",
     "shell.execute_reply": "2023-02-01T03:04:30.999072Z"
    },
    "papermill": {
     "duration": 0.033127,
     "end_time": "2023-02-01T03:04:31.002125",
     "exception": false,
     "start_time": "2023-02-01T03:04:30.968998",
     "status": "completed"
    },
    "tags": []
   },
   "outputs": [],
   "source": [
    "X = df.drop('DIABETE3', axis = 1)\n",
    "y = df['DIABETE3']"
   ]
  },
  {
   "cell_type": "code",
   "execution_count": 39,
   "id": "e28d5e62",
   "metadata": {
    "execution": {
     "iopub.execute_input": "2023-02-01T03:04:31.050195Z",
     "iopub.status.busy": "2023-02-01T03:04:31.049430Z",
     "iopub.status.idle": "2023-02-01T03:04:31.057637Z",
     "shell.execute_reply": "2023-02-01T03:04:31.056693Z"
    },
    "papermill": {
     "duration": 0.035321,
     "end_time": "2023-02-01T03:04:31.060213",
     "exception": false,
     "start_time": "2023-02-01T03:04:31.024892",
     "status": "completed"
    },
    "tags": []
   },
   "outputs": [],
   "source": [
    "X_train, X_valid, y_train, y_valid = train_test_split(X, y, train_size=0.8, test_size=0.2,\n",
    "                                                      random_state=0)"
   ]
  },
  {
   "cell_type": "code",
   "execution_count": 40,
   "id": "0580cd08",
   "metadata": {
    "execution": {
     "iopub.execute_input": "2023-02-01T03:04:31.108161Z",
     "iopub.status.busy": "2023-02-01T03:04:31.107439Z",
     "iopub.status.idle": "2023-02-01T03:04:31.179851Z",
     "shell.execute_reply": "2023-02-01T03:04:31.178627Z"
    },
    "papermill": {
     "duration": 0.09984,
     "end_time": "2023-02-01T03:04:31.182819",
     "exception": false,
     "start_time": "2023-02-01T03:04:31.082979",
     "status": "completed"
    },
    "tags": []
   },
   "outputs": [],
   "source": [
    "from sklearn.impute import SimpleImputer\n",
    "\n",
    "# Fill in the lines below: imputation\n",
    "my_imputer = SimpleImputer()\n",
    " # Your code here\n",
    "imputed_X_train = pd.DataFrame(my_imputer.fit_transform(X_train))\n",
    "imputed_X_valid = pd.DataFrame(my_imputer.transform(X_valid))\n",
    "\n",
    "# Fill in the lines below: imputation removed column names; put them back\n",
    "imputed_X_train.columns = X_train.columns\n",
    "imputed_X_valid.columns = X_valid.columns"
   ]
  },
  {
   "cell_type": "code",
   "execution_count": 41,
   "id": "50d98abf",
   "metadata": {
    "execution": {
     "iopub.execute_input": "2023-02-01T03:04:31.229936Z",
     "iopub.status.busy": "2023-02-01T03:04:31.229498Z",
     "iopub.status.idle": "2023-02-01T03:04:31.344645Z",
     "shell.execute_reply": "2023-02-01T03:04:31.342910Z"
    },
    "papermill": {
     "duration": 0.141297,
     "end_time": "2023-02-01T03:04:31.346955",
     "exception": true,
     "start_time": "2023-02-01T03:04:31.205658",
     "status": "failed"
    },
    "tags": []
   },
   "outputs": [
    {
     "ename": "NameError",
     "evalue": "name 'score_dataset' is not defined",
     "output_type": "error",
     "traceback": [
      "\u001b[0;31m---------------------------------------------------------------------------\u001b[0m",
      "\u001b[0;31mNameError\u001b[0m                                 Traceback (most recent call last)",
      "\u001b[0;32m/tmp/ipykernel_19/2364810938.py\u001b[0m in \u001b[0;36m<module>\u001b[0;34m\u001b[0m\n\u001b[0;32m----> 1\u001b[0;31m \u001b[0mprint\u001b[0m\u001b[0;34m(\u001b[0m\u001b[0mscore_dataset\u001b[0m\u001b[0;34m(\u001b[0m\u001b[0mimputed_X_train\u001b[0m\u001b[0;34m,\u001b[0m \u001b[0mimputed_X_valid\u001b[0m\u001b[0;34m,\u001b[0m \u001b[0my_train\u001b[0m\u001b[0;34m,\u001b[0m \u001b[0my_valid\u001b[0m\u001b[0;34m)\u001b[0m\u001b[0;34m)\u001b[0m\u001b[0;34m\u001b[0m\u001b[0;34m\u001b[0m\u001b[0m\n\u001b[0m",
      "\u001b[0;31mNameError\u001b[0m: name 'score_dataset' is not defined"
     ]
    }
   ],
   "source": [
    "print(score_dataset(imputed_X_train, imputed_X_valid, y_train, y_valid))"
   ]
  },
  {
   "cell_type": "code",
   "execution_count": null,
   "id": "8adb8b3b",
   "metadata": {
    "execution": {
     "iopub.execute_input": "2023-02-01T02:59:33.589710Z",
     "iopub.status.busy": "2023-02-01T02:59:33.589364Z",
     "iopub.status.idle": "2023-02-01T02:59:33.597401Z",
     "shell.execute_reply": "2023-02-01T02:59:33.595936Z",
     "shell.execute_reply.started": "2023-02-01T02:59:33.589682Z"
    },
    "papermill": {
     "duration": null,
     "end_time": null,
     "exception": null,
     "start_time": null,
     "status": "pending"
    },
    "tags": []
   },
   "outputs": [],
   "source": [
    "#split dataset in independent and dependent variable\n",
    "X = df_var[indep_var] # index slice of independent variables\n",
    "y = df_var['DIABETE3'] # dependent variable"
   ]
  },
  {
   "cell_type": "markdown",
   "id": "1f5d3a51",
   "metadata": {
    "papermill": {
     "duration": null,
     "end_time": null,
     "exception": null,
     "start_time": null,
     "status": "pending"
    },
    "tags": []
   },
   "source": [
    "Start preprocesing - remove missing values"
   ]
  },
  {
   "cell_type": "code",
   "execution_count": null,
   "id": "e43d43e9",
   "metadata": {
    "execution": {
     "iopub.execute_input": "2023-02-01T02:59:34.500817Z",
     "iopub.status.busy": "2023-02-01T02:59:34.500176Z",
     "iopub.status.idle": "2023-02-01T02:59:34.508343Z",
     "shell.execute_reply": "2023-02-01T02:59:34.506562Z",
     "shell.execute_reply.started": "2023-02-01T02:59:34.500782Z"
    },
    "papermill": {
     "duration": null,
     "end_time": null,
     "exception": null,
     "start_time": null,
     "status": "pending"
    },
    "tags": []
   },
   "outputs": [],
   "source": [
    "# split X and y into training and testing sets\n",
    "X_train, X_test, y_train, y_test = train_test_split(X, y, test_size=0.3, random_state=16)"
   ]
  },
  {
   "cell_type": "markdown",
   "id": "c9ee7a49",
   "metadata": {
    "papermill": {
     "duration": null,
     "end_time": null,
     "exception": null,
     "start_time": null,
     "status": "pending"
    },
    "tags": []
   },
   "source": [
    "# Logistic Regression Model "
   ]
  },
  {
   "cell_type": "code",
   "execution_count": null,
   "id": "57473057",
   "metadata": {
    "execution": {
     "iopub.execute_input": "2023-02-01T02:59:37.315324Z",
     "iopub.status.busy": "2023-02-01T02:59:37.314897Z",
     "iopub.status.idle": "2023-02-01T02:59:37.324528Z",
     "shell.execute_reply": "2023-02-01T02:59:37.323425Z",
     "shell.execute_reply.started": "2023-02-01T02:59:37.315291Z"
    },
    "papermill": {
     "duration": null,
     "end_time": null,
     "exception": null,
     "start_time": null,
     "status": "pending"
    },
    "tags": []
   },
   "outputs": [],
   "source": [
    "X_train, X_valid, y_train, y_valid = train_test_split(X, y, train_size=0.8, test_size=0.2,\n",
    "                                                      random_state=0)"
   ]
  },
  {
   "cell_type": "markdown",
   "id": "e29ad39f",
   "metadata": {
    "papermill": {
     "duration": null,
     "end_time": null,
     "exception": null,
     "start_time": null,
     "status": "pending"
    },
    "tags": []
   },
   "source": [
    "Regression analysis is used to find the relationship between a dependent variable and an independent variable or series of independent variables. Since the dependent variable (Diabetes) is normalized as binary and many independent variables are both continuous and binary, logistic regression will be the best fit as a model for the prediction of diabetes risk. This logistic regression model will predict the probability of a binary event occurring (\"Yes, diabetic\" or \"No diabetes risk\"). To measure the performance of the model, a calculation metric will calculate the probability of model success from a scale of 0 to 1.0 (1.0 representing 100% accuracy). In addition, a confusion matrix will also be used to evaluate and visualize the model's performance. \n",
    "\n",
    "The independent variables to train the model will be the statistically significant variables from Pearson's correlation test. "
   ]
  },
  {
   "cell_type": "code",
   "execution_count": null,
   "id": "993479ae",
   "metadata": {
    "execution": {
     "iopub.execute_input": "2023-02-01T02:58:17.242749Z",
     "iopub.status.busy": "2023-02-01T02:58:17.242386Z",
     "iopub.status.idle": "2023-02-01T02:58:17.250583Z",
     "shell.execute_reply": "2023-02-01T02:58:17.248630Z",
     "shell.execute_reply.started": "2023-02-01T02:58:17.242719Z"
    },
    "papermill": {
     "duration": null,
     "end_time": null,
     "exception": null,
     "start_time": null,
     "status": "pending"
    },
    "tags": []
   },
   "outputs": [],
   "source": [
    "from sklearn.metrics import mean_absolute_error\n",
    "def score_dataset(X_train, X_valid, y_train, y_valid):\n",
    "    model = LogisticRegression()\n",
    "    model.fit(X_train, y_train)\n",
    "    preds = logreg.predict(X_valid)\n",
    "    return mean_absolute_error(y_valid, preds)"
   ]
  },
  {
   "cell_type": "code",
   "execution_count": null,
   "id": "1b800042",
   "metadata": {
    "execution": {
     "iopub.execute_input": "2023-02-01T03:00:30.494628Z",
     "iopub.status.busy": "2023-02-01T03:00:30.494212Z",
     "iopub.status.idle": "2023-02-01T03:00:30.573090Z",
     "shell.execute_reply": "2023-02-01T03:00:30.571612Z",
     "shell.execute_reply.started": "2023-02-01T03:00:30.494590Z"
    },
    "papermill": {
     "duration": null,
     "end_time": null,
     "exception": null,
     "start_time": null,
     "status": "pending"
    },
    "tags": []
   },
   "outputs": [],
   "source": [
    "from sklearn.impute import SimpleImputer\n",
    "\n",
    "\t# Imputation\n",
    "my_imputer = SimpleImputer()\n",
    "imputed_X_train = pd.DataFrame(my_imputer.fit_transform(X_train))\n",
    "imputed_X_valid = pd.DataFrame(my_imputer.transform(X_valid))\n",
    "\n",
    "\t# Imputation removed column names; put them back\n",
    "imputed_X_train.columns = X_train.columns\n",
    "imputed_X_valid.columns = X_valid.columns\n"
   ]
  },
  {
   "cell_type": "code",
   "execution_count": null,
   "id": "5fe7152f",
   "metadata": {
    "execution": {
     "iopub.execute_input": "2023-02-01T03:00:31.362892Z",
     "iopub.status.busy": "2023-02-01T03:00:31.362466Z",
     "iopub.status.idle": "2023-02-01T03:00:31.443924Z",
     "shell.execute_reply": "2023-02-01T03:00:31.442832Z",
     "shell.execute_reply.started": "2023-02-01T03:00:31.362853Z"
    },
    "papermill": {
     "duration": null,
     "end_time": null,
     "exception": null,
     "start_time": null,
     "status": "pending"
    },
    "tags": []
   },
   "outputs": [],
   "source": [
    "print(score_dataset(imputed_X_train, imputed_X_valid, y_train, y_valid))"
   ]
  },
  {
   "cell_type": "code",
   "execution_count": null,
   "id": "ecf3b91e",
   "metadata": {
    "execution": {
     "iopub.execute_input": "2023-02-01T02:43:02.196803Z",
     "iopub.status.busy": "2023-02-01T02:43:02.196487Z",
     "iopub.status.idle": "2023-02-01T02:43:02.222982Z",
     "shell.execute_reply": "2023-02-01T02:43:02.220764Z",
     "shell.execute_reply.started": "2023-02-01T02:43:02.196777Z"
    },
    "papermill": {
     "duration": null,
     "end_time": null,
     "exception": null,
     "start_time": null,
     "status": "pending"
    },
    "tags": []
   },
   "outputs": [],
   "source": [
    "logreg = LogisticRegression(solver='lbfgs', max_iter=1000)\n",
    "# fit the model with data\n",
    "logreg.fit(X_train,y_train)\n",
    "y_pred = logreg.predict(X_test)\n",
    "print('Accuracy of the model is', metrics.accuracy_score(y_pred,y_test))"
   ]
  },
  {
   "cell_type": "markdown",
   "id": "36d1072a",
   "metadata": {
    "papermill": {
     "duration": null,
     "end_time": null,
     "exception": null,
     "start_time": null,
     "status": "pending"
    },
    "tags": []
   },
   "source": [
    "## Evaluate with Confusion Matrix"
   ]
  },
  {
   "cell_type": "code",
   "execution_count": null,
   "id": "3c626eb4",
   "metadata": {
    "execution": {
     "iopub.execute_input": "2023-01-07T14:58:38.647710Z",
     "iopub.status.busy": "2023-01-07T14:58:38.647214Z",
     "iopub.status.idle": "2023-01-07T14:58:38.827452Z",
     "shell.execute_reply": "2023-01-07T14:58:38.825676Z",
     "shell.execute_reply.started": "2023-01-07T14:58:38.647683Z"
    },
    "papermill": {
     "duration": null,
     "end_time": null,
     "exception": null,
     "start_time": null,
     "status": "pending"
    },
    "tags": []
   },
   "outputs": [],
   "source": [
    "cm=confusion_matrix(y_test,y_pred)\n",
    "plt.figure(figsize=(8,5))\n",
    "sns.heatmap(cm, annot=True,fmt='d',cmap=\"YlGnBu\")\n",
    "plt.xlabel('Predicted')\n",
    "plt.ylabel('Actual')\n",
    "plt.title('Confusion matrix', y=1.1)\n",
    "plt.show()"
   ]
  },
  {
   "cell_type": "markdown",
   "id": "aea52121",
   "metadata": {
    "papermill": {
     "duration": null,
     "end_time": null,
     "exception": null,
     "start_time": null,
     "status": "pending"
    },
    "tags": []
   },
   "source": [
    "The confusion matrix shows 1498 correct predictions(1304 no Diabetes risk + 194 Diabetic) and 0 incorrect predictions. \n",
    "From the matrix, there are zero Type I (False positives) nor any Type II (False negatives) errors. Thus, proving that the model is adequate and highly accurate in predicting diabetes among individual cases for this dataset."
   ]
  },
  {
   "cell_type": "markdown",
   "id": "b7694a26",
   "metadata": {
    "papermill": {
     "duration": null,
     "end_time": null,
     "exception": null,
     "start_time": null,
     "status": "pending"
    },
    "tags": []
   },
   "source": [
    "## Conclusions"
   ]
  },
  {
   "cell_type": "markdown",
   "id": "5e0da95d",
   "metadata": {
    "papermill": {
     "duration": null,
     "end_time": null,
     "exception": null,
     "start_time": null,
     "status": "pending"
    },
    "tags": []
   },
   "source": [
    "Some identifiable risk factors for diabetes are: \n",
    "* Exercise/Activity Outside of Work\n",
    "* Activity at Work\n",
    "* General Health\n",
    "* Age\n",
    "\n",
    "These independent variables were proven to be significant in their correlation to diabetes as risk factors via statistical tests and analysis, thus suggesting a significant role in diabetes risk prediction. In addition, the distribution of these variables does not suggest other factors skewing the data to be biased, such as time of recent checkup contributing to a timely diabetes diagnosis.\n",
    "\n",
    "Physical activity level is often one of the most common literature-cited factors of diabetes risk, and this model and analysis support prior research and knowledge. With the prevalence of high sugar, high fat, and high sodium levels in American processed food and culture, individuals considering their health to be fair or good might be less restrictive and less mindful of their diet and physical activity. Age is also a major factor of diabetes risk because individuals have increased Type II diabetes risk due to biological effects of increasing insulin resistance and impaired pancreatic islet function as they age according to the American Diabetes Association.\n",
    "\n",
    "The model was predicted with 100% accuracy. However, the model could be improved with more data to further evaluate correlation magnitudes between independent variables and diabetes risk."
   ]
  }
 ],
 "metadata": {
  "kernelspec": {
   "display_name": "Python 3",
   "language": "python",
   "name": "python3"
  },
  "language_info": {
   "codemirror_mode": {
    "name": "ipython",
    "version": 3
   },
   "file_extension": ".py",
   "mimetype": "text/x-python",
   "name": "python",
   "nbconvert_exporter": "python",
   "pygments_lexer": "ipython3",
   "version": "3.7.12"
  },
  "papermill": {
   "default_parameters": {},
   "duration": 19.272002,
   "end_time": "2023-02-01T03:04:34.399576",
   "environment_variables": {},
   "exception": true,
   "input_path": "__notebook__.ipynb",
   "output_path": "__notebook__.ipynb",
   "parameters": {},
   "start_time": "2023-02-01T03:04:15.127574",
   "version": "2.3.4"
  }
 },
 "nbformat": 4,
 "nbformat_minor": 5
}
